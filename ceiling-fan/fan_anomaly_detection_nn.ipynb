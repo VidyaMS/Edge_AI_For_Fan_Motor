{
 "cells": [
  {
   "cell_type": "markdown",
   "metadata": {},
   "source": [
    "This notebook is for building a neural network autoencoder for checking for anomaly in the accelerometer readings.  \n",
    "The normal readings features are input  to the NN autoencoder for inferencing . Metric selected is MSE . The model is used for identifying a threshold of the metruc such that values predicted greater than the threshold can be marked as an anomaly.    \n"
   ]
  },
  {
   "cell_type": "code",
   "execution_count": 1,
   "metadata": {},
   "outputs": [],
   "source": [
    "import pandas as pd\n",
    "import numpy as np\n",
    "from scipy import stats\n",
    "import seaborn as sn\n",
    "import matplotlib.pyplot as plt\n",
    "%matplotlib inline"
   ]
  },
  {
   "cell_type": "code",
   "execution_count": 2,
   "metadata": {},
   "outputs": [],
   "source": [
    "import tensorflow as tf\n",
    "from tensorflow.keras import layers, models, optimizers, regularizers"
   ]
  },
  {
   "cell_type": "code",
   "execution_count": 3,
   "metadata": {},
   "outputs": [
    {
     "name": "stdout",
     "output_type": "stream",
     "text": [
      "Python 3.8.3\n",
      "Numpy 1.19.5\n",
      "TensorFlow 2.4.1\n",
      "Keras 2.4.0\n"
     ]
    }
   ],
   "source": [
    "# Print versions\n",
    "!python --version\n",
    "print('Numpy ' + np.__version__)\n",
    "print('TensorFlow ' + tf.__version__)\n",
    "print('Keras ' + tf.keras.__version__)"
   ]
  },
  {
   "cell_type": "code",
   "execution_count": 4,
   "metadata": {},
   "outputs": [],
   "source": [
    "from sklearn.metrics import classification_report, confusion_matrix,precision_recall_curve,auc"
   ]
  },
  {
   "cell_type": "code",
   "execution_count": 5,
   "metadata": {},
   "outputs": [],
   "source": [
    "from sklearn.model_selection import train_test_split"
   ]
  },
  {
   "cell_type": "markdown",
   "metadata": {},
   "source": [
    "Read in the normal and anomaly data.   \n"
   ]
  },
  {
   "cell_type": "code",
   "execution_count": 16,
   "metadata": {},
   "outputs": [],
   "source": [
    "normal_features_df  = pd.read_csv(\"normal_features_df.csv\")"
   ]
  },
  {
   "cell_type": "code",
   "execution_count": 17,
   "metadata": {},
   "outputs": [],
   "source": [
    "anomaly_features_df = pd.read_csv(\"anomaly_features_df.csv\")"
   ]
  },
  {
   "cell_type": "code",
   "execution_count": 18,
   "metadata": {},
   "outputs": [
    {
     "data": {
      "text/plain": [
       "(201, 4)"
      ]
     },
     "execution_count": 18,
     "metadata": {},
     "output_type": "execute_result"
    }
   ],
   "source": [
    "normal_features_df.shape"
   ]
  },
  {
   "cell_type": "code",
   "execution_count": 19,
   "metadata": {},
   "outputs": [
    {
     "name": "stdout",
     "output_type": "stream",
     "text": [
      "<class 'pandas.core.frame.DataFrame'>\n",
      "RangeIndex: 201 entries, 0 to 200\n",
      "Data columns (total 4 columns):\n",
      " #   Column   Non-Null Count  Dtype  \n",
      "---  ------   --------------  -----  \n",
      " 0   mad_x    201 non-null    float64\n",
      " 1   mad_y    201 non-null    float64\n",
      " 2   mad_z    201 non-null    float64\n",
      " 3   anomaly  201 non-null    int64  \n",
      "dtypes: float64(3), int64(1)\n",
      "memory usage: 6.4 KB\n"
     ]
    }
   ],
   "source": [
    "normal_features_df.info()"
   ]
  },
  {
   "cell_type": "code",
   "execution_count": 20,
   "metadata": {},
   "outputs": [
    {
     "data": {
      "text/html": [
       "<div>\n",
       "<style scoped>\n",
       "    .dataframe tbody tr th:only-of-type {\n",
       "        vertical-align: middle;\n",
       "    }\n",
       "\n",
       "    .dataframe tbody tr th {\n",
       "        vertical-align: top;\n",
       "    }\n",
       "\n",
       "    .dataframe thead th {\n",
       "        text-align: right;\n",
       "    }\n",
       "</style>\n",
       "<table border=\"1\" class=\"dataframe\">\n",
       "  <thead>\n",
       "    <tr style=\"text-align: right;\">\n",
       "      <th></th>\n",
       "      <th>mad_x</th>\n",
       "      <th>mad_y</th>\n",
       "      <th>mad_z</th>\n",
       "      <th>anomaly</th>\n",
       "    </tr>\n",
       "  </thead>\n",
       "  <tbody>\n",
       "    <tr>\n",
       "      <th>0</th>\n",
       "      <td>0.015381</td>\n",
       "      <td>0.011718</td>\n",
       "      <td>0.005860</td>\n",
       "      <td>0</td>\n",
       "    </tr>\n",
       "    <tr>\n",
       "      <th>1</th>\n",
       "      <td>0.015625</td>\n",
       "      <td>0.012939</td>\n",
       "      <td>0.006348</td>\n",
       "      <td>0</td>\n",
       "    </tr>\n",
       "    <tr>\n",
       "      <th>2</th>\n",
       "      <td>0.015137</td>\n",
       "      <td>0.011963</td>\n",
       "      <td>0.007080</td>\n",
       "      <td>0</td>\n",
       "    </tr>\n",
       "    <tr>\n",
       "      <th>3</th>\n",
       "      <td>0.014648</td>\n",
       "      <td>0.011963</td>\n",
       "      <td>0.006348</td>\n",
       "      <td>0</td>\n",
       "    </tr>\n",
       "    <tr>\n",
       "      <th>4</th>\n",
       "      <td>0.014160</td>\n",
       "      <td>0.011718</td>\n",
       "      <td>0.005859</td>\n",
       "      <td>0</td>\n",
       "    </tr>\n",
       "  </tbody>\n",
       "</table>\n",
       "</div>"
      ],
      "text/plain": [
       "      mad_x     mad_y     mad_z  anomaly\n",
       "0  0.015381  0.011718  0.005860        0\n",
       "1  0.015625  0.012939  0.006348        0\n",
       "2  0.015137  0.011963  0.007080        0\n",
       "3  0.014648  0.011963  0.006348        0\n",
       "4  0.014160  0.011718  0.005859        0"
      ]
     },
     "execution_count": 20,
     "metadata": {},
     "output_type": "execute_result"
    }
   ],
   "source": [
    "normal_features_df.head()"
   ]
  },
  {
   "cell_type": "code",
   "execution_count": 21,
   "metadata": {},
   "outputs": [
    {
     "data": {
      "text/plain": [
       "(201, 4)"
      ]
     },
     "execution_count": 21,
     "metadata": {},
     "output_type": "execute_result"
    }
   ],
   "source": [
    "anomaly_features_df.shape"
   ]
  },
  {
   "cell_type": "code",
   "execution_count": 22,
   "metadata": {},
   "outputs": [
    {
     "data": {
      "text/html": [
       "<div>\n",
       "<style scoped>\n",
       "    .dataframe tbody tr th:only-of-type {\n",
       "        vertical-align: middle;\n",
       "    }\n",
       "\n",
       "    .dataframe tbody tr th {\n",
       "        vertical-align: top;\n",
       "    }\n",
       "\n",
       "    .dataframe thead th {\n",
       "        text-align: right;\n",
       "    }\n",
       "</style>\n",
       "<table border=\"1\" class=\"dataframe\">\n",
       "  <thead>\n",
       "    <tr style=\"text-align: right;\">\n",
       "      <th></th>\n",
       "      <th>mad_x</th>\n",
       "      <th>mad_y</th>\n",
       "      <th>mad_z</th>\n",
       "      <th>anomaly</th>\n",
       "    </tr>\n",
       "  </thead>\n",
       "  <tbody>\n",
       "    <tr>\n",
       "      <th>0</th>\n",
       "      <td>0.011231</td>\n",
       "      <td>0.009033</td>\n",
       "      <td>0.005859</td>\n",
       "      <td>1</td>\n",
       "    </tr>\n",
       "    <tr>\n",
       "      <th>1</th>\n",
       "      <td>0.009766</td>\n",
       "      <td>0.009277</td>\n",
       "      <td>0.006347</td>\n",
       "      <td>1</td>\n",
       "    </tr>\n",
       "    <tr>\n",
       "      <th>2</th>\n",
       "      <td>0.011718</td>\n",
       "      <td>0.010253</td>\n",
       "      <td>0.006836</td>\n",
       "      <td>1</td>\n",
       "    </tr>\n",
       "    <tr>\n",
       "      <th>3</th>\n",
       "      <td>0.010254</td>\n",
       "      <td>0.009765</td>\n",
       "      <td>0.006347</td>\n",
       "      <td>1</td>\n",
       "    </tr>\n",
       "    <tr>\n",
       "      <th>4</th>\n",
       "      <td>0.010254</td>\n",
       "      <td>0.009521</td>\n",
       "      <td>0.006836</td>\n",
       "      <td>1</td>\n",
       "    </tr>\n",
       "  </tbody>\n",
       "</table>\n",
       "</div>"
      ],
      "text/plain": [
       "      mad_x     mad_y     mad_z  anomaly\n",
       "0  0.011231  0.009033  0.005859        1\n",
       "1  0.009766  0.009277  0.006347        1\n",
       "2  0.011718  0.010253  0.006836        1\n",
       "3  0.010254  0.009765  0.006347        1\n",
       "4  0.010254  0.009521  0.006836        1"
      ]
     },
     "execution_count": 22,
     "metadata": {},
     "output_type": "execute_result"
    }
   ],
   "source": [
    "anomaly_features_df.head()"
   ]
  },
  {
   "cell_type": "code",
   "execution_count": 23,
   "metadata": {},
   "outputs": [
    {
     "name": "stdout",
     "output_type": "stream",
     "text": [
      "<class 'pandas.core.frame.DataFrame'>\n",
      "RangeIndex: 201 entries, 0 to 200\n",
      "Data columns (total 4 columns):\n",
      " #   Column   Non-Null Count  Dtype  \n",
      "---  ------   --------------  -----  \n",
      " 0   mad_x    201 non-null    float64\n",
      " 1   mad_y    201 non-null    float64\n",
      " 2   mad_z    201 non-null    float64\n",
      " 3   anomaly  201 non-null    int64  \n",
      "dtypes: float64(3), int64(1)\n",
      "memory usage: 6.4 KB\n"
     ]
    }
   ],
   "source": [
    "anomaly_features_df.info()"
   ]
  },
  {
   "cell_type": "markdown",
   "metadata": {},
   "source": [
    "Split the features into train, validate and test sets.  "
   ]
  },
  {
   "cell_type": "markdown",
   "metadata": {},
   "source": [
    "Select the first 175 records so that the remaining 25 records can be used for final testing later.  "
   ]
  },
  {
   "cell_type": "code",
   "execution_count": 25,
   "metadata": {},
   "outputs": [
    {
     "name": "stdout",
     "output_type": "stream",
     "text": [
      "\n",
      " X_train : (118, 3)\n",
      "\n",
      " X_val : (30, 3)\n",
      "\n",
      " X_test : (27, 3)\n",
      "\n",
      " y_train : (118,)\n",
      "\n",
      " y_val : (30,)\n",
      "\n",
      " y_test : (27,)\n"
     ]
    }
   ],
   "source": [
    "normal_features = normal_features_df[['mad_x','mad_y','mad_z']][:175]\n",
    "X_train_val, X_test, y_train_val, y_test  = train_test_split(normal_features, normal_features_df['anomaly'][:175], random_state = 1 , test_size = 0.15)\n",
    "X_train, X_val, y_train, y_val = train_test_split(X_train_val, y_train_val , random_state = 1 , test_size = 0.2)\n",
    "\n",
    "#\n",
    "print(\"\\n X_train : {}\".format(X_train.shape))\n",
    "print(\"\\n X_val : {}\".format(X_val.shape))\n",
    "print(\"\\n X_test : {}\".format(X_test.shape))\n",
    "#\n",
    "print(\"\\n y_train : {}\".format(y_train.shape))\n",
    "print(\"\\n y_val : {}\".format(y_val.shape))\n",
    "print(\"\\n y_test : {}\".format(y_test.shape))"
   ]
  },
  {
   "cell_type": "markdown",
   "metadata": {},
   "source": [
    "Create a neural network autoencoder.  "
   ]
  },
  {
   "cell_type": "markdown",
   "metadata": {},
   "source": [
    "The below code is taken from https://github.com/ShawnHymel/tinyml-example-anomaly-detection/blob/master/autoencoder/anomaly-detection-training-autoencoder.ipynb"
   ]
  },
  {
   "cell_type": "code",
   "execution_count": 26,
   "metadata": {},
   "outputs": [
    {
     "name": "stdout",
     "output_type": "stream",
     "text": [
      "(3,)\n"
     ]
    }
   ],
   "source": [
    "# Get input shape for 1 sample\n",
    "sample_shape = X_train.shape[1:]\n",
    "print(sample_shape)"
   ]
  },
  {
   "cell_type": "markdown",
   "metadata": {},
   "source": [
    "After couple of iterations, the model architecture as shown below was arrived at."
   ]
  },
  {
   "cell_type": "code",
   "execution_count": 65,
   "metadata": {},
   "outputs": [
    {
     "name": "stdout",
     "output_type": "stream",
     "text": [
      "Model: \"sequential_2\"\n",
      "_________________________________________________________________\n",
      "Layer (type)                 Output Shape              Param #   \n",
      "=================================================================\n",
      "dense_4 (Dense)              (None, 20)                80        \n",
      "_________________________________________________________________\n",
      "dense_5 (Dense)              (None, 20)                420       \n",
      "_________________________________________________________________\n",
      "dropout_2 (Dropout)          (None, 20)                0         \n",
      "_________________________________________________________________\n",
      "dense_6 (Dense)              (None, 3)                 63        \n",
      "=================================================================\n",
      "Total params: 563\n",
      "Trainable params: 563\n",
      "Non-trainable params: 0\n",
      "_________________________________________________________________\n"
     ]
    }
   ],
   "source": [
    "model = tf.keras.models.Sequential([\n",
    "     layers.InputLayer(input_shape=sample_shape),\n",
    "    tf.keras.layers.Dense(20, activation=tf.nn.relu),\n",
    "     tf.keras.layers.Dense(20, activation=tf.nn.relu),\n",
    "    tf.keras.layers.Dropout(0.2),    \n",
    "tf.keras.layers.Dense(*sample_shape, activation=tf.nn.relu)])\n",
    "\n",
    "# Display model\n",
    "model.summary()"
   ]
  },
  {
   "cell_type": "code",
   "execution_count": 66,
   "metadata": {},
   "outputs": [],
   "source": [
    "# Add training parameters to model\n",
    "model.compile(optimizer='adam',\n",
    "             loss='mse')"
   ]
  },
  {
   "cell_type": "code",
   "execution_count": 67,
   "metadata": {},
   "outputs": [],
   "source": [
    "# Train model (note Y labels are same as inputs, X)\n",
    "history = model.fit(X_train,\n",
    "                   X_train,\n",
    "                   epochs=50,\n",
    "                   batch_size=80,\n",
    "                   validation_data=(X_val, X_val),\n",
    "                   verbose=0)"
   ]
  },
  {
   "cell_type": "code",
   "execution_count": 68,
   "metadata": {},
   "outputs": [
    {
     "data": {
      "image/png": "[encoded data removed]",
      "text/plain": [
       "<Figure size 432x288 with 1 Axes>"
      ]
     },
     "metadata": {
      "needs_background": "light"
     },
     "output_type": "display_data"
    }
   ],
   "source": [
    "# Plot results\n",
    "loss = history.history['loss']\n",
    "val_loss = history.history['val_loss']\n",
    "\n",
    "epochs = range(1, len(loss) + 1)\n",
    "\n",
    "plt.figure()\n",
    "\n",
    "plt.plot(epochs, loss, 'bo', label='Training loss')\n",
    "plt.plot(epochs, val_loss, 'b', label='Validation loss')\n",
    "plt.title('Training and validation loss')\n",
    "plt.legend()\n",
    "\n",
    "plt.show()"
   ]
  },
  {
   "cell_type": "code",
   "execution_count": 69,
   "metadata": {},
   "outputs": [
    {
     "name": "stdout",
     "output_type": "stream",
     "text": [
      "Average MSE for normal validation set: 2.9949606168185174e-07\n",
      "Standard deviation of MSE for normal validation set: 3.6065386930170974e-07\n",
      "Recommended threshold (3x std dev + avg): 1.381457669586981e-06\n"
     ]
    },
    {
     "data": {
      "text/plain": [
       "(array([9., 5., 6., 2., 3., 1., 0., 0., 0., 0., 0., 2., 0., 0., 0., 1., 0.,\n",
       "        0., 0., 1.]),\n",
       " array([1.49036203e-08, 9.16173850e-08, 1.68331150e-07, 2.45044915e-07,\n",
       "        3.21758679e-07, 3.98472444e-07, 4.75186209e-07, 5.51899974e-07,\n",
       "        6.28613738e-07, 7.05327503e-07, 7.82041268e-07, 8.58755033e-07,\n",
       "        9.35468797e-07, 1.01218256e-06, 1.08889633e-06, 1.16561009e-06,\n",
       "        1.24232386e-06, 1.31903762e-06, 1.39575139e-06, 1.47246515e-06,\n",
       "        1.54917892e-06]),\n",
       " <a list of 20 Patch objects>)"
      ]
     },
     "execution_count": 69,
     "metadata": {},
     "output_type": "execute_result"
    },
    {
     "data": {
      "image/png": "[encoded data removed]",
      "text/plain": [
       "<Figure size 432x288 with 1 Axes>"
      ]
     },
     "metadata": {
      "needs_background": "light"
     },
     "output_type": "display_data"
    }
   ],
   "source": [
    "# Calculate MSE from validation set\n",
    "\n",
    "predictions = model.predict(X_val)\n",
    "normal_mse = np.mean(np.power(X_val - predictions, 2), axis=1)\n",
    "print('Average MSE for normal validation set:', np.average(normal_mse))\n",
    "\n",
    "print('Standard deviation of MSE for normal validation set:', np.std(normal_mse))\n",
    "\n",
    "print('Recommended threshold (3x std dev + avg):', (3*np.std(normal_mse)) + np.average(normal_mse))\n",
    "fig, ax = plt.subplots(1,1)\n",
    "ax.hist(normal_mse, bins=20, label='normal', color='blue', alpha=0.7)"
   ]
  },
  {
   "cell_type": "code",
   "execution_count": 70,
   "metadata": {},
   "outputs": [
    {
     "data": {
      "text/plain": [
       "<matplotlib.legend.Legend at 0x15684fca0>"
      ]
     },
     "execution_count": 70,
     "metadata": {},
     "output_type": "execute_result"
    },
    {
     "data": {
      "image/png": "[encoded data removed]",
      "text/plain": [
       "<Figure size 1080x1080 with 3 Axes>"
      ]
     },
     "metadata": {
      "needs_background": "light"
     },
     "output_type": "display_data"
    }
   ],
   "source": [
    "# plot actual Vs predicted values \n",
    "plt.figure(figsize = (15,15))\n",
    "plt.suptitle(\"Validation - actual and predicted values\")\n",
    "plt.subplot(3,1,1)\n",
    "plt.hist(X_val['mad_x'], label = 'actual x values')\n",
    "plt.hist(predictions[:,0] , label = 'predicted')\n",
    "plt.legend()\n",
    "plt.subplot(3,1,2)\n",
    "plt.hist(X_val['mad_y'], label = 'actual y values')\n",
    "plt.hist(predictions[:,1] , label = 'predicted')\n",
    "plt.legend()\n",
    "##\n",
    "plt.subplot(3,1,3)\n",
    "plt.hist(X_val['mad_z'], label = 'actual z values')\n",
    "plt.hist(predictions[:,2] , label = 'predicted')\n",
    "plt.legend()"
   ]
  },
  {
   "cell_type": "markdown",
   "metadata": {},
   "source": [
    "Check Average MSE for X_test data set."
   ]
  },
  {
   "cell_type": "code",
   "execution_count": 71,
   "metadata": {},
   "outputs": [
    {
     "name": "stdout",
     "output_type": "stream",
     "text": [
      "Average MSE for normal test set: 2.6158883910409164e-07\n",
      "Standard deviation of MSE for normal test set: 1.943046185314706e-07\n"
     ]
    }
   ],
   "source": [
    "pred_test = model.predict(X_test)\n",
    "normal_mse_test = np.mean(np.power(X_test - pred_test, 2), axis=1)\n",
    "print('Average MSE for normal test set:', np.average(normal_mse_test))\n",
    "print('Standard deviation of MSE for normal test set:', np.std(normal_mse_test))"
   ]
  },
  {
   "cell_type": "code",
   "execution_count": 72,
   "metadata": {},
   "outputs": [
    {
     "data": {
      "text/plain": [
       "<matplotlib.legend.Legend at 0x1572debe0>"
      ]
     },
     "execution_count": 72,
     "metadata": {},
     "output_type": "execute_result"
    },
    {
     "data": {
      "image/png": "[encoded data removed]",
      "text/plain": [
       "<Figure size 1080x1080 with 3 Axes>"
      ]
     },
     "metadata": {
      "needs_background": "light"
     },
     "output_type": "display_data"
    }
   ],
   "source": [
    "# plot actual Vs predicted values \n",
    "plt.figure(figsize = (15,15))\n",
    "plt.suptitle(\"Test set  - actual and predicted values\")\n",
    "plt.subplot(3,1,1)\n",
    "plt.hist(X_test['mad_x'], label = 'actual x values')\n",
    "plt.hist(pred_test[:,0] , label = 'predicted')\n",
    "plt.legend()\n",
    "plt.subplot(3,1,2)\n",
    "plt.hist(X_test['mad_y'], label = 'actual y values')\n",
    "plt.hist(pred_test[:,1] , label = 'predicted')\n",
    "plt.legend()\n",
    "##\n",
    "plt.subplot(3,1,3)\n",
    "plt.hist(X_test['mad_z'], label = 'actual z values')\n",
    "plt.hist(pred_test[:,2] , label = 'predicted')\n",
    "plt.legend()"
   ]
  },
  {
   "cell_type": "markdown",
   "metadata": {},
   "source": [
    "Using the model , check the prediction and MSE for anomaly data.    \n",
    "The data size is kept same as the test set size .   "
   ]
  },
  {
   "cell_type": "code",
   "execution_count": 73,
   "metadata": {},
   "outputs": [
    {
     "name": "stdout",
     "output_type": "stream",
     "text": [
      "Average MSE for for anomaly test set: 8.338976400694789e-06\n"
     ]
    }
   ],
   "source": [
    "# Calculate MSE from anomaly set\n",
    "\n",
    "anomaly_features = anomaly_features_df[['mad_x','mad_y','mad_z']][:27]\n",
    "pred_anomaly = model.predict(anomaly_features)\n",
    "anomaly_mse = np.mean(np.power(anomaly_features - pred_anomaly, 2), axis=1)\n",
    "print('Average MSE for for anomaly test set:', np.average(anomaly_mse))\n"
   ]
  },
  {
   "cell_type": "code",
   "execution_count": 74,
   "metadata": {},
   "outputs": [
    {
     "data": {
      "text/plain": [
       "<matplotlib.legend.Legend at 0x1560cc340>"
      ]
     },
     "execution_count": 74,
     "metadata": {},
     "output_type": "execute_result"
    },
    {
     "data": {
      "image/png": "[encoded data removed]",
      "text/plain": [
       "<Figure size 1080x1080 with 3 Axes>"
      ]
     },
     "metadata": {
      "needs_background": "light"
     },
     "output_type": "display_data"
    }
   ],
   "source": [
    "# plot actual Vs predicted values for anomaly\n",
    "plt.figure(figsize = (15,15))\n",
    "plt.suptitle(\"Anomaly set  - actual and predicted values\")\n",
    "plt.subplot(3,1,1)\n",
    "plt.hist(anomaly_features['mad_x'], label = 'actual x values')\n",
    "plt.hist(pred_anomaly[:,0] , label = 'predicted')\n",
    "plt.legend()\n",
    "plt.subplot(3,1,2)\n",
    "plt.hist(anomaly_features['mad_y'], label = 'actual y values')\n",
    "plt.hist(pred_anomaly[:,1] , label = 'predicted')\n",
    "plt.legend()\n",
    "##\n",
    "plt.subplot(3,1,3)\n",
    "plt.hist(anomaly_features['mad_z'], label = 'actual z values')\n",
    "plt.hist(pred_anomaly[:,2] , label = 'predicted')\n",
    "plt.legend()"
   ]
  },
  {
   "cell_type": "code",
   "execution_count": 75,
   "metadata": {},
   "outputs": [
    {
     "data": {
      "text/plain": [
       "<matplotlib.legend.Legend at 0x15784abe0>"
      ]
     },
     "execution_count": 75,
     "metadata": {},
     "output_type": "execute_result"
    },
    {
     "data": {
      "image/png": "[encoded data removed]",
      "text/plain": [
       "<Figure size 432x288 with 1 Axes>"
      ]
     },
     "metadata": {
      "needs_background": "light"
     },
     "output_type": "display_data"
    }
   ],
   "source": [
    "# Plot histograms of normal validation vs. anomaly sets (MSEs)\n",
    "fig, ax = plt.subplots(1,1)\n",
    "plt.xscale(\"log\")\n",
    "ax.hist(normal_mse, bins=20, label='normal', color='blue', alpha=0.7)\n",
    "ax.hist(anomaly_mse, bins=20, label='anomaly', color='red', alpha=0.7)\n",
    "plt.title(\"Normal Validation  Vs Anomaly data\")\n",
    "plt.legend()"
   ]
  },
  {
   "cell_type": "code",
   "execution_count": 76,
   "metadata": {},
   "outputs": [
    {
     "data": {
      "text/plain": [
       "<matplotlib.legend.Legend at 0x153839280>"
      ]
     },
     "execution_count": 76,
     "metadata": {},
     "output_type": "execute_result"
    },
    {
     "data": {
      "image/png": "[encoded data removed]",
      "text/plain": [
       "<Figure size 432x288 with 1 Axes>"
      ]
     },
     "metadata": {
      "needs_background": "light"
     },
     "output_type": "display_data"
    }
   ],
   "source": [
    "# Plot histograms of normal test vs. anomaly sets (MSEs)\n",
    "fig, ax = plt.subplots(1,1)\n",
    "plt.xscale(\"log\")\n",
    "ax.hist(normal_mse_test, bins=20, label='normal', color='blue', alpha=0.7)\n",
    "ax.hist(anomaly_mse, bins=20, label='anomaly', color='red', alpha=0.7)\n",
    "plt.title(\"Normal Test Vs Anomaly data \")\n",
    "plt.legend()"
   ]
  },
  {
   "cell_type": "code",
   "execution_count": 84,
   "metadata": {},
   "outputs": [],
   "source": [
    "# Choose a threshold\n",
    "anomaly_threshold = 1.381457669586981e-06"
   ]
  },
  {
   "cell_type": "code",
   "execution_count": 78,
   "metadata": {},
   "outputs": [],
   "source": [
    "#  save the model\n",
    "model.save(\"autoencoder_anomaly_detection\" + '.h5')"
   ]
  },
  {
   "cell_type": "code",
   "execution_count": 87,
   "metadata": {},
   "outputs": [],
   "source": [
    "def detect_anomaly(features, model , threshold):\n",
    "    \"\"\"\n",
    "    predict value using the auto encoder model.\n",
    "    calculate mse.\n",
    "    if mse > threshold  , mark as anomaly.\n",
    "    \"\"\"\n",
    "    features_reshaped = features.values.reshape(1,3)\n",
    "    prediction = model.predict(features_reshaped)\n",
    "    mse = np.mean(np.power(features_reshaped - prediction, 2), axis=1)\n",
    "    if mse > threshold:\n",
    "        return 1\n",
    "    else:\n",
    "        return 0"
   ]
  },
  {
   "cell_type": "code",
   "execution_count": 88,
   "metadata": {},
   "outputs": [
    {
     "data": {
      "text/plain": [
       "93     0\n",
       "114    0\n",
       "19     0\n",
       "69     0\n",
       "53     0\n",
       "135    0\n",
       "126    0\n",
       "14     0\n",
       "106    0\n",
       "112    0\n",
       "11     0\n",
       "4      0\n",
       "105    0\n",
       "42     0\n",
       "102    0\n",
       "110    0\n",
       "149    0\n",
       "35     0\n",
       "123    0\n",
       "31     0\n",
       "51     0\n",
       "75     0\n",
       "169    0\n",
       "73     0\n",
       "40     0\n",
       "85     0\n",
       "47     0\n",
       "dtype: int64"
      ]
     },
     "execution_count": 88,
     "metadata": {},
     "output_type": "execute_result"
    }
   ],
   "source": [
    "y_test_pred = X_test.apply(lambda x: detect_anomaly(x, model, anomaly_threshold), axis = 1)\n",
    "y_test_pred"
   ]
  },
  {
   "cell_type": "markdown",
   "metadata": {},
   "source": [
    "As shown above, the model  has identified  all the normal test set  as 'non-anomaly'."
   ]
  },
  {
   "cell_type": "markdown",
   "metadata": {},
   "source": [
    "Check for anomaly records.  "
   ]
  },
  {
   "cell_type": "code",
   "execution_count": 93,
   "metadata": {},
   "outputs": [
    {
     "data": {
      "text/plain": [
       "0     1\n",
       "1     1\n",
       "2     1\n",
       "3     1\n",
       "4     1\n",
       "5     1\n",
       "6     1\n",
       "7     1\n",
       "8     1\n",
       "9     1\n",
       "10    1\n",
       "11    1\n",
       "12    1\n",
       "13    1\n",
       "14    1\n",
       "15    1\n",
       "16    1\n",
       "17    1\n",
       "18    1\n",
       "19    1\n",
       "20    1\n",
       "21    1\n",
       "22    1\n",
       "23    1\n",
       "24    1\n",
       "25    1\n",
       "26    1\n",
       "dtype: int64"
      ]
     },
     "execution_count": 93,
     "metadata": {},
     "output_type": "execute_result"
    }
   ],
   "source": [
    "anomaly_pred = anomaly_features[:27].apply(lambda x: detect_anomaly(x, model, anomaly_threshold), axis = 1)\n",
    "anomaly_pred"
   ]
  },
  {
   "cell_type": "markdown",
   "metadata": {},
   "source": [
    "Test with a mix of normal features and anomaly features.  \n",
    "We had retained 25 records of normal_features_df as well as anomaly_features_df of file for this testing.   "
   ]
  },
  {
   "cell_type": "code",
   "execution_count": 111,
   "metadata": {},
   "outputs": [
    {
     "data": {
      "text/plain": [
       "(175, 3)"
      ]
     },
     "execution_count": 111,
     "metadata": {},
     "output_type": "execute_result"
    }
   ],
   "source": [
    "normal_features.shape"
   ]
  },
  {
   "cell_type": "code",
   "execution_count": 112,
   "metadata": {},
   "outputs": [
    {
     "data": {
      "text/plain": [
       "(25, 4)"
      ]
     },
     "execution_count": 112,
     "metadata": {},
     "output_type": "execute_result"
    }
   ],
   "source": [
    "all_features = normal_features_df.copy()\n",
    "all_features = all_features[176:]\n",
    "all_features.shape"
   ]
  },
  {
   "cell_type": "code",
   "execution_count": 113,
   "metadata": {},
   "outputs": [
    {
     "data": {
      "text/html": [
       "<div>\n",
       "<style scoped>\n",
       "    .dataframe tbody tr th:only-of-type {\n",
       "        vertical-align: middle;\n",
       "    }\n",
       "\n",
       "    .dataframe tbody tr th {\n",
       "        vertical-align: top;\n",
       "    }\n",
       "\n",
       "    .dataframe thead th {\n",
       "        text-align: right;\n",
       "    }\n",
       "</style>\n",
       "<table border=\"1\" class=\"dataframe\">\n",
       "  <thead>\n",
       "    <tr style=\"text-align: right;\">\n",
       "      <th></th>\n",
       "      <th>mad_x</th>\n",
       "      <th>mad_y</th>\n",
       "      <th>mad_z</th>\n",
       "      <th>anomaly</th>\n",
       "    </tr>\n",
       "  </thead>\n",
       "  <tbody>\n",
       "    <tr>\n",
       "      <th>196</th>\n",
       "      <td>0.015137</td>\n",
       "      <td>0.012207</td>\n",
       "      <td>0.006348</td>\n",
       "      <td>0</td>\n",
       "    </tr>\n",
       "    <tr>\n",
       "      <th>197</th>\n",
       "      <td>0.015381</td>\n",
       "      <td>0.012696</td>\n",
       "      <td>0.006348</td>\n",
       "      <td>0</td>\n",
       "    </tr>\n",
       "    <tr>\n",
       "      <th>198</th>\n",
       "      <td>0.014404</td>\n",
       "      <td>0.011231</td>\n",
       "      <td>0.005859</td>\n",
       "      <td>0</td>\n",
       "    </tr>\n",
       "    <tr>\n",
       "      <th>199</th>\n",
       "      <td>0.014648</td>\n",
       "      <td>0.012207</td>\n",
       "      <td>0.006836</td>\n",
       "      <td>0</td>\n",
       "    </tr>\n",
       "    <tr>\n",
       "      <th>200</th>\n",
       "      <td>0.016114</td>\n",
       "      <td>0.011719</td>\n",
       "      <td>0.006347</td>\n",
       "      <td>0</td>\n",
       "    </tr>\n",
       "  </tbody>\n",
       "</table>\n",
       "</div>"
      ],
      "text/plain": [
       "        mad_x     mad_y     mad_z  anomaly\n",
       "196  0.015137  0.012207  0.006348        0\n",
       "197  0.015381  0.012696  0.006348        0\n",
       "198  0.014404  0.011231  0.005859        0\n",
       "199  0.014648  0.012207  0.006836        0\n",
       "200  0.016114  0.011719  0.006347        0"
      ]
     },
     "execution_count": 113,
     "metadata": {},
     "output_type": "execute_result"
    }
   ],
   "source": [
    "all_features.tail()"
   ]
  },
  {
   "cell_type": "code",
   "execution_count": 114,
   "metadata": {},
   "outputs": [
    {
     "data": {
      "text/html": [
       "<div>\n",
       "<style scoped>\n",
       "    .dataframe tbody tr th:only-of-type {\n",
       "        vertical-align: middle;\n",
       "    }\n",
       "\n",
       "    .dataframe tbody tr th {\n",
       "        vertical-align: top;\n",
       "    }\n",
       "\n",
       "    .dataframe thead th {\n",
       "        text-align: right;\n",
       "    }\n",
       "</style>\n",
       "<table border=\"1\" class=\"dataframe\">\n",
       "  <thead>\n",
       "    <tr style=\"text-align: right;\">\n",
       "      <th></th>\n",
       "      <th>mad_x</th>\n",
       "      <th>mad_y</th>\n",
       "      <th>mad_z</th>\n",
       "      <th>anomaly</th>\n",
       "    </tr>\n",
       "  </thead>\n",
       "  <tbody>\n",
       "    <tr>\n",
       "      <th>176</th>\n",
       "      <td>0.009277</td>\n",
       "      <td>0.007813</td>\n",
       "      <td>0.006836</td>\n",
       "      <td>1</td>\n",
       "    </tr>\n",
       "    <tr>\n",
       "      <th>177</th>\n",
       "      <td>0.009766</td>\n",
       "      <td>0.009766</td>\n",
       "      <td>0.006348</td>\n",
       "      <td>1</td>\n",
       "    </tr>\n",
       "    <tr>\n",
       "      <th>178</th>\n",
       "      <td>0.009277</td>\n",
       "      <td>0.008301</td>\n",
       "      <td>0.006348</td>\n",
       "      <td>1</td>\n",
       "    </tr>\n",
       "    <tr>\n",
       "      <th>179</th>\n",
       "      <td>0.009765</td>\n",
       "      <td>0.008301</td>\n",
       "      <td>0.007080</td>\n",
       "      <td>1</td>\n",
       "    </tr>\n",
       "    <tr>\n",
       "      <th>180</th>\n",
       "      <td>0.009277</td>\n",
       "      <td>0.009277</td>\n",
       "      <td>0.006836</td>\n",
       "      <td>1</td>\n",
       "    </tr>\n",
       "    <tr>\n",
       "      <th>181</th>\n",
       "      <td>0.010254</td>\n",
       "      <td>0.009277</td>\n",
       "      <td>0.006348</td>\n",
       "      <td>1</td>\n",
       "    </tr>\n",
       "    <tr>\n",
       "      <th>182</th>\n",
       "      <td>0.009765</td>\n",
       "      <td>0.009033</td>\n",
       "      <td>0.006347</td>\n",
       "      <td>1</td>\n",
       "    </tr>\n",
       "    <tr>\n",
       "      <th>183</th>\n",
       "      <td>0.008789</td>\n",
       "      <td>0.008301</td>\n",
       "      <td>0.006347</td>\n",
       "      <td>1</td>\n",
       "    </tr>\n",
       "    <tr>\n",
       "      <th>184</th>\n",
       "      <td>0.009522</td>\n",
       "      <td>0.008545</td>\n",
       "      <td>0.006348</td>\n",
       "      <td>1</td>\n",
       "    </tr>\n",
       "    <tr>\n",
       "      <th>185</th>\n",
       "      <td>0.008789</td>\n",
       "      <td>0.009277</td>\n",
       "      <td>0.006836</td>\n",
       "      <td>1</td>\n",
       "    </tr>\n",
       "    <tr>\n",
       "      <th>186</th>\n",
       "      <td>0.009277</td>\n",
       "      <td>0.008789</td>\n",
       "      <td>0.006104</td>\n",
       "      <td>1</td>\n",
       "    </tr>\n",
       "    <tr>\n",
       "      <th>187</th>\n",
       "      <td>0.008789</td>\n",
       "      <td>0.009277</td>\n",
       "      <td>0.007324</td>\n",
       "      <td>1</td>\n",
       "    </tr>\n",
       "    <tr>\n",
       "      <th>188</th>\n",
       "      <td>0.009766</td>\n",
       "      <td>0.008789</td>\n",
       "      <td>0.007324</td>\n",
       "      <td>1</td>\n",
       "    </tr>\n",
       "    <tr>\n",
       "      <th>189</th>\n",
       "      <td>0.009277</td>\n",
       "      <td>0.008789</td>\n",
       "      <td>0.006836</td>\n",
       "      <td>1</td>\n",
       "    </tr>\n",
       "    <tr>\n",
       "      <th>190</th>\n",
       "      <td>0.009766</td>\n",
       "      <td>0.009277</td>\n",
       "      <td>0.006592</td>\n",
       "      <td>1</td>\n",
       "    </tr>\n",
       "    <tr>\n",
       "      <th>191</th>\n",
       "      <td>0.008789</td>\n",
       "      <td>0.009277</td>\n",
       "      <td>0.006348</td>\n",
       "      <td>1</td>\n",
       "    </tr>\n",
       "    <tr>\n",
       "      <th>192</th>\n",
       "      <td>0.010254</td>\n",
       "      <td>0.008789</td>\n",
       "      <td>0.006592</td>\n",
       "      <td>1</td>\n",
       "    </tr>\n",
       "    <tr>\n",
       "      <th>193</th>\n",
       "      <td>0.009277</td>\n",
       "      <td>0.009277</td>\n",
       "      <td>0.006836</td>\n",
       "      <td>1</td>\n",
       "    </tr>\n",
       "    <tr>\n",
       "      <th>194</th>\n",
       "      <td>0.009277</td>\n",
       "      <td>0.009277</td>\n",
       "      <td>0.006348</td>\n",
       "      <td>1</td>\n",
       "    </tr>\n",
       "    <tr>\n",
       "      <th>195</th>\n",
       "      <td>0.009522</td>\n",
       "      <td>0.008789</td>\n",
       "      <td>0.006836</td>\n",
       "      <td>1</td>\n",
       "    </tr>\n",
       "    <tr>\n",
       "      <th>196</th>\n",
       "      <td>0.008301</td>\n",
       "      <td>0.008789</td>\n",
       "      <td>0.006348</td>\n",
       "      <td>1</td>\n",
       "    </tr>\n",
       "    <tr>\n",
       "      <th>197</th>\n",
       "      <td>0.009278</td>\n",
       "      <td>0.008301</td>\n",
       "      <td>0.006347</td>\n",
       "      <td>1</td>\n",
       "    </tr>\n",
       "    <tr>\n",
       "      <th>198</th>\n",
       "      <td>0.009277</td>\n",
       "      <td>0.008301</td>\n",
       "      <td>0.006348</td>\n",
       "      <td>1</td>\n",
       "    </tr>\n",
       "    <tr>\n",
       "      <th>199</th>\n",
       "      <td>0.009765</td>\n",
       "      <td>0.008789</td>\n",
       "      <td>0.006348</td>\n",
       "      <td>1</td>\n",
       "    </tr>\n",
       "    <tr>\n",
       "      <th>200</th>\n",
       "      <td>0.009766</td>\n",
       "      <td>0.008789</td>\n",
       "      <td>0.006836</td>\n",
       "      <td>1</td>\n",
       "    </tr>\n",
       "  </tbody>\n",
       "</table>\n",
       "</div>"
      ],
      "text/plain": [
       "        mad_x     mad_y     mad_z  anomaly\n",
       "176  0.009277  0.007813  0.006836        1\n",
       "177  0.009766  0.009766  0.006348        1\n",
       "178  0.009277  0.008301  0.006348        1\n",
       "179  0.009765  0.008301  0.007080        1\n",
       "180  0.009277  0.009277  0.006836        1\n",
       "181  0.010254  0.009277  0.006348        1\n",
       "182  0.009765  0.009033  0.006347        1\n",
       "183  0.008789  0.008301  0.006347        1\n",
       "184  0.009522  0.008545  0.006348        1\n",
       "185  0.008789  0.009277  0.006836        1\n",
       "186  0.009277  0.008789  0.006104        1\n",
       "187  0.008789  0.009277  0.007324        1\n",
       "188  0.009766  0.008789  0.007324        1\n",
       "189  0.009277  0.008789  0.006836        1\n",
       "190  0.009766  0.009277  0.006592        1\n",
       "191  0.008789  0.009277  0.006348        1\n",
       "192  0.010254  0.008789  0.006592        1\n",
       "193  0.009277  0.009277  0.006836        1\n",
       "194  0.009277  0.009277  0.006348        1\n",
       "195  0.009522  0.008789  0.006836        1\n",
       "196  0.008301  0.008789  0.006348        1\n",
       "197  0.009278  0.008301  0.006347        1\n",
       "198  0.009277  0.008301  0.006348        1\n",
       "199  0.009765  0.008789  0.006348        1\n",
       "200  0.009766  0.008789  0.006836        1"
      ]
     },
     "execution_count": 114,
     "metadata": {},
     "output_type": "execute_result"
    }
   ],
   "source": [
    "anomaly_features_df[176:]"
   ]
  },
  {
   "cell_type": "code",
   "execution_count": 115,
   "metadata": {},
   "outputs": [
    {
     "data": {
      "text/plain": [
       "(50, 4)"
      ]
     },
     "execution_count": 115,
     "metadata": {},
     "output_type": "execute_result"
    }
   ],
   "source": [
    "all_features = all_features.append(anomaly_features_df[176:], ignore_index = True)\n",
    "all_features.shape"
   ]
  },
  {
   "cell_type": "code",
   "execution_count": 116,
   "metadata": {},
   "outputs": [
    {
     "data": {
      "text/html": [
       "<div>\n",
       "<style scoped>\n",
       "    .dataframe tbody tr th:only-of-type {\n",
       "        vertical-align: middle;\n",
       "    }\n",
       "\n",
       "    .dataframe tbody tr th {\n",
       "        vertical-align: top;\n",
       "    }\n",
       "\n",
       "    .dataframe thead th {\n",
       "        text-align: right;\n",
       "    }\n",
       "</style>\n",
       "<table border=\"1\" class=\"dataframe\">\n",
       "  <thead>\n",
       "    <tr style=\"text-align: right;\">\n",
       "      <th></th>\n",
       "      <th>mad_x</th>\n",
       "      <th>mad_y</th>\n",
       "      <th>mad_z</th>\n",
       "      <th>anomaly</th>\n",
       "    </tr>\n",
       "  </thead>\n",
       "  <tbody>\n",
       "    <tr>\n",
       "      <th>45</th>\n",
       "      <td>0.008301</td>\n",
       "      <td>0.008789</td>\n",
       "      <td>0.006348</td>\n",
       "      <td>1</td>\n",
       "    </tr>\n",
       "    <tr>\n",
       "      <th>46</th>\n",
       "      <td>0.009278</td>\n",
       "      <td>0.008301</td>\n",
       "      <td>0.006347</td>\n",
       "      <td>1</td>\n",
       "    </tr>\n",
       "    <tr>\n",
       "      <th>47</th>\n",
       "      <td>0.009277</td>\n",
       "      <td>0.008301</td>\n",
       "      <td>0.006348</td>\n",
       "      <td>1</td>\n",
       "    </tr>\n",
       "    <tr>\n",
       "      <th>48</th>\n",
       "      <td>0.009765</td>\n",
       "      <td>0.008789</td>\n",
       "      <td>0.006348</td>\n",
       "      <td>1</td>\n",
       "    </tr>\n",
       "    <tr>\n",
       "      <th>49</th>\n",
       "      <td>0.009766</td>\n",
       "      <td>0.008789</td>\n",
       "      <td>0.006836</td>\n",
       "      <td>1</td>\n",
       "    </tr>\n",
       "  </tbody>\n",
       "</table>\n",
       "</div>"
      ],
      "text/plain": [
       "       mad_x     mad_y     mad_z  anomaly\n",
       "45  0.008301  0.008789  0.006348        1\n",
       "46  0.009278  0.008301  0.006347        1\n",
       "47  0.009277  0.008301  0.006348        1\n",
       "48  0.009765  0.008789  0.006348        1\n",
       "49  0.009766  0.008789  0.006836        1"
      ]
     },
     "execution_count": 116,
     "metadata": {},
     "output_type": "execute_result"
    }
   ],
   "source": [
    "all_features.tail()"
   ]
  },
  {
   "cell_type": "markdown",
   "metadata": {},
   "source": [
    "Shuffle the  records so that there is a mix of anomaly and  non anomaly.  "
   ]
  },
  {
   "cell_type": "code",
   "execution_count": 107,
   "metadata": {},
   "outputs": [
    {
     "data": {
      "text/html": [
       "<div>\n",
       "<style scoped>\n",
       "    .dataframe tbody tr th:only-of-type {\n",
       "        vertical-align: middle;\n",
       "    }\n",
       "\n",
       "    .dataframe tbody tr th {\n",
       "        vertical-align: top;\n",
       "    }\n",
       "\n",
       "    .dataframe thead th {\n",
       "        text-align: right;\n",
       "    }\n",
       "</style>\n",
       "<table border=\"1\" class=\"dataframe\">\n",
       "  <thead>\n",
       "    <tr style=\"text-align: right;\">\n",
       "      <th></th>\n",
       "      <th>mad_x</th>\n",
       "      <th>mad_y</th>\n",
       "      <th>mad_z</th>\n",
       "      <th>anomaly</th>\n",
       "    </tr>\n",
       "  </thead>\n",
       "  <tbody>\n",
       "    <tr>\n",
       "      <th>9</th>\n",
       "      <td>0.015137</td>\n",
       "      <td>0.011230</td>\n",
       "      <td>0.005860</td>\n",
       "      <td>0</td>\n",
       "    </tr>\n",
       "    <tr>\n",
       "      <th>29</th>\n",
       "      <td>0.009277</td>\n",
       "      <td>0.009277</td>\n",
       "      <td>0.006836</td>\n",
       "      <td>1</td>\n",
       "    </tr>\n",
       "    <tr>\n",
       "      <th>11</th>\n",
       "      <td>0.015137</td>\n",
       "      <td>0.012207</td>\n",
       "      <td>0.005859</td>\n",
       "      <td>0</td>\n",
       "    </tr>\n",
       "    <tr>\n",
       "      <th>47</th>\n",
       "      <td>0.009277</td>\n",
       "      <td>0.008301</td>\n",
       "      <td>0.006348</td>\n",
       "      <td>1</td>\n",
       "    </tr>\n",
       "    <tr>\n",
       "      <th>18</th>\n",
       "      <td>0.014404</td>\n",
       "      <td>0.011231</td>\n",
       "      <td>0.006347</td>\n",
       "      <td>0</td>\n",
       "    </tr>\n",
       "    <tr>\n",
       "      <th>4</th>\n",
       "      <td>0.015137</td>\n",
       "      <td>0.011719</td>\n",
       "      <td>0.006348</td>\n",
       "      <td>0</td>\n",
       "    </tr>\n",
       "    <tr>\n",
       "      <th>38</th>\n",
       "      <td>0.009277</td>\n",
       "      <td>0.008789</td>\n",
       "      <td>0.006836</td>\n",
       "      <td>1</td>\n",
       "    </tr>\n",
       "    <tr>\n",
       "      <th>48</th>\n",
       "      <td>0.009765</td>\n",
       "      <td>0.008789</td>\n",
       "      <td>0.006348</td>\n",
       "      <td>1</td>\n",
       "    </tr>\n",
       "    <tr>\n",
       "      <th>17</th>\n",
       "      <td>0.014404</td>\n",
       "      <td>0.012207</td>\n",
       "      <td>0.006348</td>\n",
       "      <td>0</td>\n",
       "    </tr>\n",
       "    <tr>\n",
       "      <th>5</th>\n",
       "      <td>0.015136</td>\n",
       "      <td>0.011719</td>\n",
       "      <td>0.006348</td>\n",
       "      <td>0</td>\n",
       "    </tr>\n",
       "    <tr>\n",
       "      <th>13</th>\n",
       "      <td>0.015137</td>\n",
       "      <td>0.011231</td>\n",
       "      <td>0.005860</td>\n",
       "      <td>0</td>\n",
       "    </tr>\n",
       "    <tr>\n",
       "      <th>1</th>\n",
       "      <td>0.015137</td>\n",
       "      <td>0.012207</td>\n",
       "      <td>0.006104</td>\n",
       "      <td>0</td>\n",
       "    </tr>\n",
       "    <tr>\n",
       "      <th>42</th>\n",
       "      <td>0.009277</td>\n",
       "      <td>0.009277</td>\n",
       "      <td>0.006836</td>\n",
       "      <td>1</td>\n",
       "    </tr>\n",
       "    <tr>\n",
       "      <th>3</th>\n",
       "      <td>0.014893</td>\n",
       "      <td>0.011231</td>\n",
       "      <td>0.005859</td>\n",
       "      <td>0</td>\n",
       "    </tr>\n",
       "    <tr>\n",
       "      <th>15</th>\n",
       "      <td>0.013916</td>\n",
       "      <td>0.011719</td>\n",
       "      <td>0.005860</td>\n",
       "      <td>0</td>\n",
       "    </tr>\n",
       "    <tr>\n",
       "      <th>37</th>\n",
       "      <td>0.009766</td>\n",
       "      <td>0.008789</td>\n",
       "      <td>0.007324</td>\n",
       "      <td>1</td>\n",
       "    </tr>\n",
       "    <tr>\n",
       "      <th>8</th>\n",
       "      <td>0.016601</td>\n",
       "      <td>0.012207</td>\n",
       "      <td>0.006347</td>\n",
       "      <td>0</td>\n",
       "    </tr>\n",
       "    <tr>\n",
       "      <th>2</th>\n",
       "      <td>0.014893</td>\n",
       "      <td>0.011719</td>\n",
       "      <td>0.005859</td>\n",
       "      <td>0</td>\n",
       "    </tr>\n",
       "    <tr>\n",
       "      <th>41</th>\n",
       "      <td>0.010254</td>\n",
       "      <td>0.008789</td>\n",
       "      <td>0.006592</td>\n",
       "      <td>1</td>\n",
       "    </tr>\n",
       "    <tr>\n",
       "      <th>23</th>\n",
       "      <td>0.014648</td>\n",
       "      <td>0.012207</td>\n",
       "      <td>0.006836</td>\n",
       "      <td>0</td>\n",
       "    </tr>\n",
       "    <tr>\n",
       "      <th>31</th>\n",
       "      <td>0.009765</td>\n",
       "      <td>0.009033</td>\n",
       "      <td>0.006347</td>\n",
       "      <td>1</td>\n",
       "    </tr>\n",
       "    <tr>\n",
       "      <th>6</th>\n",
       "      <td>0.014161</td>\n",
       "      <td>0.011719</td>\n",
       "      <td>0.005859</td>\n",
       "      <td>0</td>\n",
       "    </tr>\n",
       "    <tr>\n",
       "      <th>0</th>\n",
       "      <td>0.014649</td>\n",
       "      <td>0.011963</td>\n",
       "      <td>0.006348</td>\n",
       "      <td>0</td>\n",
       "    </tr>\n",
       "    <tr>\n",
       "      <th>43</th>\n",
       "      <td>0.009277</td>\n",
       "      <td>0.009277</td>\n",
       "      <td>0.006348</td>\n",
       "      <td>1</td>\n",
       "    </tr>\n",
       "    <tr>\n",
       "      <th>26</th>\n",
       "      <td>0.009766</td>\n",
       "      <td>0.009766</td>\n",
       "      <td>0.006348</td>\n",
       "      <td>1</td>\n",
       "    </tr>\n",
       "    <tr>\n",
       "      <th>32</th>\n",
       "      <td>0.008789</td>\n",
       "      <td>0.008301</td>\n",
       "      <td>0.006347</td>\n",
       "      <td>1</td>\n",
       "    </tr>\n",
       "    <tr>\n",
       "      <th>35</th>\n",
       "      <td>0.009277</td>\n",
       "      <td>0.008789</td>\n",
       "      <td>0.006104</td>\n",
       "      <td>1</td>\n",
       "    </tr>\n",
       "    <tr>\n",
       "      <th>14</th>\n",
       "      <td>0.014893</td>\n",
       "      <td>0.011231</td>\n",
       "      <td>0.006348</td>\n",
       "      <td>0</td>\n",
       "    </tr>\n",
       "    <tr>\n",
       "      <th>49</th>\n",
       "      <td>0.009766</td>\n",
       "      <td>0.008789</td>\n",
       "      <td>0.006836</td>\n",
       "      <td>1</td>\n",
       "    </tr>\n",
       "    <tr>\n",
       "      <th>12</th>\n",
       "      <td>0.016113</td>\n",
       "      <td>0.012207</td>\n",
       "      <td>0.006104</td>\n",
       "      <td>0</td>\n",
       "    </tr>\n",
       "    <tr>\n",
       "      <th>45</th>\n",
       "      <td>0.008301</td>\n",
       "      <td>0.008789</td>\n",
       "      <td>0.006348</td>\n",
       "      <td>1</td>\n",
       "    </tr>\n",
       "    <tr>\n",
       "      <th>36</th>\n",
       "      <td>0.008789</td>\n",
       "      <td>0.009277</td>\n",
       "      <td>0.007324</td>\n",
       "      <td>1</td>\n",
       "    </tr>\n",
       "    <tr>\n",
       "      <th>10</th>\n",
       "      <td>0.013916</td>\n",
       "      <td>0.011230</td>\n",
       "      <td>0.006347</td>\n",
       "      <td>0</td>\n",
       "    </tr>\n",
       "    <tr>\n",
       "      <th>33</th>\n",
       "      <td>0.009522</td>\n",
       "      <td>0.008545</td>\n",
       "      <td>0.006348</td>\n",
       "      <td>1</td>\n",
       "    </tr>\n",
       "    <tr>\n",
       "      <th>25</th>\n",
       "      <td>0.009277</td>\n",
       "      <td>0.007813</td>\n",
       "      <td>0.006836</td>\n",
       "      <td>1</td>\n",
       "    </tr>\n",
       "    <tr>\n",
       "      <th>46</th>\n",
       "      <td>0.009278</td>\n",
       "      <td>0.008301</td>\n",
       "      <td>0.006347</td>\n",
       "      <td>1</td>\n",
       "    </tr>\n",
       "    <tr>\n",
       "      <th>19</th>\n",
       "      <td>0.014649</td>\n",
       "      <td>0.012207</td>\n",
       "      <td>0.006348</td>\n",
       "      <td>0</td>\n",
       "    </tr>\n",
       "    <tr>\n",
       "      <th>30</th>\n",
       "      <td>0.010254</td>\n",
       "      <td>0.009277</td>\n",
       "      <td>0.006348</td>\n",
       "      <td>1</td>\n",
       "    </tr>\n",
       "    <tr>\n",
       "      <th>34</th>\n",
       "      <td>0.008789</td>\n",
       "      <td>0.009277</td>\n",
       "      <td>0.006836</td>\n",
       "      <td>1</td>\n",
       "    </tr>\n",
       "    <tr>\n",
       "      <th>27</th>\n",
       "      <td>0.009277</td>\n",
       "      <td>0.008301</td>\n",
       "      <td>0.006348</td>\n",
       "      <td>1</td>\n",
       "    </tr>\n",
       "    <tr>\n",
       "      <th>16</th>\n",
       "      <td>0.014648</td>\n",
       "      <td>0.012207</td>\n",
       "      <td>0.005859</td>\n",
       "      <td>0</td>\n",
       "    </tr>\n",
       "    <tr>\n",
       "      <th>22</th>\n",
       "      <td>0.014404</td>\n",
       "      <td>0.011231</td>\n",
       "      <td>0.005859</td>\n",
       "      <td>0</td>\n",
       "    </tr>\n",
       "    <tr>\n",
       "      <th>28</th>\n",
       "      <td>0.009765</td>\n",
       "      <td>0.008301</td>\n",
       "      <td>0.007080</td>\n",
       "      <td>1</td>\n",
       "    </tr>\n",
       "    <tr>\n",
       "      <th>39</th>\n",
       "      <td>0.009766</td>\n",
       "      <td>0.009277</td>\n",
       "      <td>0.006592</td>\n",
       "      <td>1</td>\n",
       "    </tr>\n",
       "    <tr>\n",
       "      <th>40</th>\n",
       "      <td>0.008789</td>\n",
       "      <td>0.009277</td>\n",
       "      <td>0.006348</td>\n",
       "      <td>1</td>\n",
       "    </tr>\n",
       "    <tr>\n",
       "      <th>44</th>\n",
       "      <td>0.009522</td>\n",
       "      <td>0.008789</td>\n",
       "      <td>0.006836</td>\n",
       "      <td>1</td>\n",
       "    </tr>\n",
       "    <tr>\n",
       "      <th>20</th>\n",
       "      <td>0.015137</td>\n",
       "      <td>0.012207</td>\n",
       "      <td>0.006348</td>\n",
       "      <td>0</td>\n",
       "    </tr>\n",
       "    <tr>\n",
       "      <th>21</th>\n",
       "      <td>0.015381</td>\n",
       "      <td>0.012696</td>\n",
       "      <td>0.006348</td>\n",
       "      <td>0</td>\n",
       "    </tr>\n",
       "    <tr>\n",
       "      <th>24</th>\n",
       "      <td>0.016114</td>\n",
       "      <td>0.011719</td>\n",
       "      <td>0.006347</td>\n",
       "      <td>0</td>\n",
       "    </tr>\n",
       "    <tr>\n",
       "      <th>7</th>\n",
       "      <td>0.014160</td>\n",
       "      <td>0.011718</td>\n",
       "      <td>0.005860</td>\n",
       "      <td>0</td>\n",
       "    </tr>\n",
       "  </tbody>\n",
       "</table>\n",
       "</div>"
      ],
      "text/plain": [
       "       mad_x     mad_y     mad_z  anomaly\n",
       "9   0.015137  0.011230  0.005860        0\n",
       "29  0.009277  0.009277  0.006836        1\n",
       "11  0.015137  0.012207  0.005859        0\n",
       "47  0.009277  0.008301  0.006348        1\n",
       "18  0.014404  0.011231  0.006347        0\n",
       "4   0.015137  0.011719  0.006348        0\n",
       "38  0.009277  0.008789  0.006836        1\n",
       "48  0.009765  0.008789  0.006348        1\n",
       "17  0.014404  0.012207  0.006348        0\n",
       "5   0.015136  0.011719  0.006348        0\n",
       "13  0.015137  0.011231  0.005860        0\n",
       "1   0.015137  0.012207  0.006104        0\n",
       "42  0.009277  0.009277  0.006836        1\n",
       "3   0.014893  0.011231  0.005859        0\n",
       "15  0.013916  0.011719  0.005860        0\n",
       "37  0.009766  0.008789  0.007324        1\n",
       "8   0.016601  0.012207  0.006347        0\n",
       "2   0.014893  0.011719  0.005859        0\n",
       "41  0.010254  0.008789  0.006592        1\n",
       "23  0.014648  0.012207  0.006836        0\n",
       "31  0.009765  0.009033  0.006347        1\n",
       "6   0.014161  0.011719  0.005859        0\n",
       "0   0.014649  0.011963  0.006348        0\n",
       "43  0.009277  0.009277  0.006348        1\n",
       "26  0.009766  0.009766  0.006348        1\n",
       "32  0.008789  0.008301  0.006347        1\n",
       "35  0.009277  0.008789  0.006104        1\n",
       "14  0.014893  0.011231  0.006348        0\n",
       "49  0.009766  0.008789  0.006836        1\n",
       "12  0.016113  0.012207  0.006104        0\n",
       "45  0.008301  0.008789  0.006348        1\n",
       "36  0.008789  0.009277  0.007324        1\n",
       "10  0.013916  0.011230  0.006347        0\n",
       "33  0.009522  0.008545  0.006348        1\n",
       "25  0.009277  0.007813  0.006836        1\n",
       "46  0.009278  0.008301  0.006347        1\n",
       "19  0.014649  0.012207  0.006348        0\n",
       "30  0.010254  0.009277  0.006348        1\n",
       "34  0.008789  0.009277  0.006836        1\n",
       "27  0.009277  0.008301  0.006348        1\n",
       "16  0.014648  0.012207  0.005859        0\n",
       "22  0.014404  0.011231  0.005859        0\n",
       "28  0.009765  0.008301  0.007080        1\n",
       "39  0.009766  0.009277  0.006592        1\n",
       "40  0.008789  0.009277  0.006348        1\n",
       "44  0.009522  0.008789  0.006836        1\n",
       "20  0.015137  0.012207  0.006348        0\n",
       "21  0.015381  0.012696  0.006348        0\n",
       "24  0.016114  0.011719  0.006347        0\n",
       "7   0.014160  0.011718  0.005860        0"
      ]
     },
     "execution_count": 107,
     "metadata": {},
     "output_type": "execute_result"
    }
   ],
   "source": [
    "all_features = all_features.sample(frac =1)\n",
    "all_features"
   ]
  },
  {
   "cell_type": "markdown",
   "metadata": {},
   "source": [
    "Predict the values of x, y, z based on the model , calculate the mse and check for accuracy of anomaly detection.  "
   ]
  },
  {
   "cell_type": "code",
   "execution_count": 108,
   "metadata": {},
   "outputs": [
    {
     "data": {
      "text/plain": [
       "9     0\n",
       "29    1\n",
       "11    0\n",
       "47    1\n",
       "18    0\n",
       "4     0\n",
       "38    1\n",
       "48    1\n",
       "17    0\n",
       "5     0\n",
       "13    0\n",
       "1     0\n",
       "42    1\n",
       "3     0\n",
       "15    0\n",
       "37    1\n",
       "8     0\n",
       "2     0\n",
       "41    1\n",
       "23    0\n",
       "31    1\n",
       "6     0\n",
       "0     0\n",
       "43    1\n",
       "26    1\n",
       "32    1\n",
       "35    1\n",
       "14    0\n",
       "49    1\n",
       "12    0\n",
       "45    1\n",
       "36    1\n",
       "10    0\n",
       "33    1\n",
       "25    1\n",
       "46    1\n",
       "19    0\n",
       "30    1\n",
       "34    1\n",
       "27    1\n",
       "16    0\n",
       "22    0\n",
       "28    1\n",
       "39    1\n",
       "40    1\n",
       "44    1\n",
       "20    0\n",
       "21    0\n",
       "24    0\n",
       "7     0\n",
       "dtype: int64"
      ]
     },
     "execution_count": 108,
     "metadata": {},
     "output_type": "execute_result"
    }
   ],
   "source": [
    "final_test_data = all_features[['mad_x','mad_y','mad_z']]\n",
    "\n",
    "all_features_pred = final_test_data.apply(lambda x: detect_anomaly(x, model, anomaly_threshold), axis = 1)\n",
    "all_features_pred"
   ]
  },
  {
   "cell_type": "code",
   "execution_count": 109,
   "metadata": {},
   "outputs": [
    {
     "data": {
      "text/plain": [
       "array([[25,  0],\n",
       "       [ 0, 25]])"
      ]
     },
     "execution_count": 109,
     "metadata": {},
     "output_type": "execute_result"
    }
   ],
   "source": [
    "cm = confusion_matrix(all_features['anomaly'], all_features_pred)\n",
    "cm"
   ]
  },
  {
   "cell_type": "code",
   "execution_count": 110,
   "metadata": {},
   "outputs": [
    {
     "data": {
      "text/plain": [
       "Text(33.0, 0.5, 'Actual')"
      ]
     },
     "execution_count": 110,
     "metadata": {},
     "output_type": "execute_result"
    },
    {
     "data": {
      "image/png": "[encoded data removed]",
      "text/plain": [
       "<Figure size 432x288 with 2 Axes>"
      ]
     },
     "metadata": {
      "needs_background": "light"
     },
     "output_type": "display_data"
    }
   ],
   "source": [
    "# Plot the confusion matrix.  \n",
    "df_cm = pd.DataFrame(cm, index=['normal', 'anomaly'], columns=['normal', 'anomaly'])\n",
    "plt.figure()\n",
    "sn.heatmap(df_cm, annot=True)\n",
    "plt.title('Confusion Matrix')\n",
    "plt.xlabel('Prediction')\n",
    "plt.ylabel('Actual')"
   ]
  },
  {
   "cell_type": "code",
   "execution_count": null,
   "metadata": {},
   "outputs": [],
   "source": []
  }
 ],
 "metadata": {
  "kernelspec": {
   "display_name": "Python 3",
   "language": "python",
   "name": "python3"
  },
  "language_info": {
   "codemirror_mode": {
    "name": "ipython",
    "version": 3
   },
   "file_extension": ".py",
   "mimetype": "text/x-python",
   "name": "python",
   "nbconvert_exporter": "python",
   "pygments_lexer": "ipython3",
   "version": "3.8.3"
  }
 },
 "nbformat": 4,
 "nbformat_minor": 4
}
