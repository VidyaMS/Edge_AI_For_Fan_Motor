{
 "cells": [
  {
   "cell_type": "markdown",
   "metadata": {},
   "source": [
    "Anomaly i.e any value out of the usual group of values can be identified using Mahalanobis distance(MD).  \n",
    "This distance is used if the data is multivariate and if there may be correlation between the variables.  \n",
    "Euclidean distance can not be applied in that case.  \n",
    "In this analysis , the MD of the data sample for normal fan operation accelerometer readings are used as the baseline and for any readings if the MD is greater than the baseline , reading can be treated as an anomaly.  "
   ]
  },
  {
   "cell_type": "code",
   "execution_count": 18,
   "metadata": {},
   "outputs": [],
   "source": [
    "import pandas as pd\n",
    "import numpy as np\n",
    "from scipy import stats\n",
    "import seaborn as sn\n",
    "import scipy as sp\n",
    "import matplotlib.pyplot as plt\n",
    "%matplotlib inline"
   ]
  },
  {
   "cell_type": "code",
   "execution_count": 2,
   "metadata": {},
   "outputs": [
    {
     "name": "stdout",
     "output_type": "stream",
     "text": [
      "Python 3.8.3\n",
      "Numpy 1.19.5\n"
     ]
    }
   ],
   "source": [
    "# Print versions\n",
    "!python --version\n",
    "print('Numpy ' + np.__version__)\n"
   ]
  },
  {
   "cell_type": "code",
   "execution_count": 3,
   "metadata": {},
   "outputs": [],
   "source": [
    "from sklearn.metrics import confusion_matrix"
   ]
  },
  {
   "cell_type": "code",
   "execution_count": 4,
   "metadata": {},
   "outputs": [],
   "source": [
    "from sklearn.model_selection import train_test_split"
   ]
  },
  {
   "cell_type": "markdown",
   "metadata": {},
   "source": [
    "Read in the normal and anomaly data.   \n"
   ]
  },
  {
   "cell_type": "code",
   "execution_count": 5,
   "metadata": {},
   "outputs": [],
   "source": [
    "normal_features_df  = pd.read_csv(\"normal_features_df.csv\")"
   ]
  },
  {
   "cell_type": "code",
   "execution_count": 6,
   "metadata": {},
   "outputs": [],
   "source": [
    "anomaly_features_df = pd.read_csv(\"anomaly_features_df.csv\")"
   ]
  },
  {
   "cell_type": "code",
   "execution_count": 7,
   "metadata": {},
   "outputs": [
    {
     "data": {
      "text/plain": [
       "(201, 4)"
      ]
     },
     "execution_count": 7,
     "metadata": {},
     "output_type": "execute_result"
    }
   ],
   "source": [
    "normal_features_df.shape"
   ]
  },
  {
   "cell_type": "code",
   "execution_count": 8,
   "metadata": {},
   "outputs": [
    {
     "name": "stdout",
     "output_type": "stream",
     "text": [
      "<class 'pandas.core.frame.DataFrame'>\n",
      "RangeIndex: 201 entries, 0 to 200\n",
      "Data columns (total 4 columns):\n",
      " #   Column   Non-Null Count  Dtype  \n",
      "---  ------   --------------  -----  \n",
      " 0   mad_x    201 non-null    float64\n",
      " 1   mad_y    201 non-null    float64\n",
      " 2   mad_z    201 non-null    float64\n",
      " 3   anomaly  201 non-null    int64  \n",
      "dtypes: float64(3), int64(1)\n",
      "memory usage: 6.4 KB\n"
     ]
    }
   ],
   "source": [
    "normal_features_df.info()"
   ]
  },
  {
   "cell_type": "code",
   "execution_count": 9,
   "metadata": {},
   "outputs": [
    {
     "data": {
      "text/html": [
       "<div>\n",
       "<style scoped>\n",
       "    .dataframe tbody tr th:only-of-type {\n",
       "        vertical-align: middle;\n",
       "    }\n",
       "\n",
       "    .dataframe tbody tr th {\n",
       "        vertical-align: top;\n",
       "    }\n",
       "\n",
       "    .dataframe thead th {\n",
       "        text-align: right;\n",
       "    }\n",
       "</style>\n",
       "<table border=\"1\" class=\"dataframe\">\n",
       "  <thead>\n",
       "    <tr style=\"text-align: right;\">\n",
       "      <th></th>\n",
       "      <th>mad_x</th>\n",
       "      <th>mad_y</th>\n",
       "      <th>mad_z</th>\n",
       "      <th>anomaly</th>\n",
       "    </tr>\n",
       "  </thead>\n",
       "  <tbody>\n",
       "    <tr>\n",
       "      <th>0</th>\n",
       "      <td>0.015381</td>\n",
       "      <td>0.011718</td>\n",
       "      <td>0.005860</td>\n",
       "      <td>0</td>\n",
       "    </tr>\n",
       "    <tr>\n",
       "      <th>1</th>\n",
       "      <td>0.015625</td>\n",
       "      <td>0.012939</td>\n",
       "      <td>0.006348</td>\n",
       "      <td>0</td>\n",
       "    </tr>\n",
       "    <tr>\n",
       "      <th>2</th>\n",
       "      <td>0.015137</td>\n",
       "      <td>0.011963</td>\n",
       "      <td>0.007080</td>\n",
       "      <td>0</td>\n",
       "    </tr>\n",
       "    <tr>\n",
       "      <th>3</th>\n",
       "      <td>0.014648</td>\n",
       "      <td>0.011963</td>\n",
       "      <td>0.006348</td>\n",
       "      <td>0</td>\n",
       "    </tr>\n",
       "    <tr>\n",
       "      <th>4</th>\n",
       "      <td>0.014160</td>\n",
       "      <td>0.011718</td>\n",
       "      <td>0.005859</td>\n",
       "      <td>0</td>\n",
       "    </tr>\n",
       "  </tbody>\n",
       "</table>\n",
       "</div>"
      ],
      "text/plain": [
       "      mad_x     mad_y     mad_z  anomaly\n",
       "0  0.015381  0.011718  0.005860        0\n",
       "1  0.015625  0.012939  0.006348        0\n",
       "2  0.015137  0.011963  0.007080        0\n",
       "3  0.014648  0.011963  0.006348        0\n",
       "4  0.014160  0.011718  0.005859        0"
      ]
     },
     "execution_count": 9,
     "metadata": {},
     "output_type": "execute_result"
    }
   ],
   "source": [
    "normal_features_df.head()"
   ]
  },
  {
   "cell_type": "code",
   "execution_count": 10,
   "metadata": {},
   "outputs": [
    {
     "data": {
      "text/plain": [
       "(201, 4)"
      ]
     },
     "execution_count": 10,
     "metadata": {},
     "output_type": "execute_result"
    }
   ],
   "source": [
    "anomaly_features_df.shape"
   ]
  },
  {
   "cell_type": "code",
   "execution_count": 11,
   "metadata": {},
   "outputs": [
    {
     "data": {
      "text/html": [
       "<div>\n",
       "<style scoped>\n",
       "    .dataframe tbody tr th:only-of-type {\n",
       "        vertical-align: middle;\n",
       "    }\n",
       "\n",
       "    .dataframe tbody tr th {\n",
       "        vertical-align: top;\n",
       "    }\n",
       "\n",
       "    .dataframe thead th {\n",
       "        text-align: right;\n",
       "    }\n",
       "</style>\n",
       "<table border=\"1\" class=\"dataframe\">\n",
       "  <thead>\n",
       "    <tr style=\"text-align: right;\">\n",
       "      <th></th>\n",
       "      <th>mad_x</th>\n",
       "      <th>mad_y</th>\n",
       "      <th>mad_z</th>\n",
       "      <th>anomaly</th>\n",
       "    </tr>\n",
       "  </thead>\n",
       "  <tbody>\n",
       "    <tr>\n",
       "      <th>0</th>\n",
       "      <td>0.011231</td>\n",
       "      <td>0.009033</td>\n",
       "      <td>0.005859</td>\n",
       "      <td>1</td>\n",
       "    </tr>\n",
       "    <tr>\n",
       "      <th>1</th>\n",
       "      <td>0.009766</td>\n",
       "      <td>0.009277</td>\n",
       "      <td>0.006347</td>\n",
       "      <td>1</td>\n",
       "    </tr>\n",
       "    <tr>\n",
       "      <th>2</th>\n",
       "      <td>0.011718</td>\n",
       "      <td>0.010253</td>\n",
       "      <td>0.006836</td>\n",
       "      <td>1</td>\n",
       "    </tr>\n",
       "    <tr>\n",
       "      <th>3</th>\n",
       "      <td>0.010254</td>\n",
       "      <td>0.009765</td>\n",
       "      <td>0.006347</td>\n",
       "      <td>1</td>\n",
       "    </tr>\n",
       "    <tr>\n",
       "      <th>4</th>\n",
       "      <td>0.010254</td>\n",
       "      <td>0.009521</td>\n",
       "      <td>0.006836</td>\n",
       "      <td>1</td>\n",
       "    </tr>\n",
       "  </tbody>\n",
       "</table>\n",
       "</div>"
      ],
      "text/plain": [
       "      mad_x     mad_y     mad_z  anomaly\n",
       "0  0.011231  0.009033  0.005859        1\n",
       "1  0.009766  0.009277  0.006347        1\n",
       "2  0.011718  0.010253  0.006836        1\n",
       "3  0.010254  0.009765  0.006347        1\n",
       "4  0.010254  0.009521  0.006836        1"
      ]
     },
     "execution_count": 11,
     "metadata": {},
     "output_type": "execute_result"
    }
   ],
   "source": [
    "anomaly_features_df.head()"
   ]
  },
  {
   "cell_type": "code",
   "execution_count": 12,
   "metadata": {},
   "outputs": [
    {
     "name": "stdout",
     "output_type": "stream",
     "text": [
      "<class 'pandas.core.frame.DataFrame'>\n",
      "RangeIndex: 201 entries, 0 to 200\n",
      "Data columns (total 4 columns):\n",
      " #   Column   Non-Null Count  Dtype  \n",
      "---  ------   --------------  -----  \n",
      " 0   mad_x    201 non-null    float64\n",
      " 1   mad_y    201 non-null    float64\n",
      " 2   mad_z    201 non-null    float64\n",
      " 3   anomaly  201 non-null    int64  \n",
      "dtypes: float64(3), int64(1)\n",
      "memory usage: 6.4 KB\n"
     ]
    }
   ],
   "source": [
    "anomaly_features_df.info()"
   ]
  },
  {
   "cell_type": "markdown",
   "metadata": {},
   "source": [
    "Split the features into train, validate and test sets.  "
   ]
  },
  {
   "cell_type": "markdown",
   "metadata": {},
   "source": [
    "Select the first 175 records so that the remaining 25 records can be used for final testing later.  "
   ]
  },
  {
   "cell_type": "code",
   "execution_count": 13,
   "metadata": {},
   "outputs": [
    {
     "name": "stdout",
     "output_type": "stream",
     "text": [
      "\n",
      " X_train : (118, 3)\n",
      "\n",
      " X_val : (30, 3)\n",
      "\n",
      " X_test : (27, 3)\n",
      "\n",
      " y_train : (118,)\n",
      "\n",
      " y_val : (30,)\n",
      "\n",
      " y_test : (27,)\n"
     ]
    }
   ],
   "source": [
    "normal_features = normal_features_df[['mad_x','mad_y','mad_z']][:175]\n",
    "X_train_val, X_test, y_train_val, y_test  = train_test_split(normal_features, normal_features_df['anomaly'][:175], random_state = 1 , test_size = 0.15)\n",
    "X_train, X_val, y_train, y_val = train_test_split(X_train_val, y_train_val , random_state = 1 , test_size = 0.2)\n",
    "\n",
    "#\n",
    "print(\"\\n X_train : {}\".format(X_train.shape))\n",
    "print(\"\\n X_val : {}\".format(X_val.shape))\n",
    "print(\"\\n X_test : {}\".format(X_test.shape))\n",
    "#\n",
    "print(\"\\n y_train : {}\".format(y_train.shape))\n",
    "print(\"\\n y_val : {}\".format(y_val.shape))\n",
    "print(\"\\n y_test : {}\".format(y_test.shape))"
   ]
  },
  {
   "cell_type": "markdown",
   "metadata": {},
   "source": [
    "The following code is taken from https://github.com/ShawnHymel/tinyml-example-anomaly-detection/blob/master/mahalanobis_distance/anomaly-detection-training-mahalanobis-distance.ipynb"
   ]
  },
  {
   "cell_type": "code",
   "execution_count": 14,
   "metadata": {},
   "outputs": [],
   "source": [
    "# Calculate mahalanobis distance of x from group described by mu, cov\n",
    "# Based on: https://www.machinelearningplus.com/statistics/mahalanobis-distance/\n",
    "def mahalanobis(x, mu, cov):\n",
    "    x_minus_mu = x - mu\n",
    "    inv_covmat = sp.linalg.inv(cov)\n",
    "    left_term = np.dot(x_minus_mu, inv_covmat)\n",
    "    mahal = np.dot(left_term, x_minus_mu.T)\n",
    "    if mahal.shape == ():\n",
    "        return mahal\n",
    "    else:\n",
    "        return mahal.diagonal()"
   ]
  },
  {
   "cell_type": "code",
   "execution_count": 15,
   "metadata": {},
   "outputs": [
    {
     "name": "stdout",
     "output_type": "stream",
     "text": [
      "mad_x    0.014951\n",
      "mad_y    0.012006\n",
      "mad_z    0.006288\n",
      "dtype: float64\n",
      "[[ 8.68666399e-07  2.66955966e-07 -1.48766819e-08]\n",
      " [ 2.66955966e-07  2.87979285e-07 -3.66031820e-08]\n",
      " [-1.48766819e-08 -3.66031820e-08  1.23241152e-07]]\n"
     ]
    }
   ],
   "source": [
    "# Use training data (normal) to calculate mean and covariance matrices\n",
    "model_mu = np.mean(X_train, axis=0)\n",
    "model_cov = np.cov(X_train.T)\n",
    "print(model_mu)\n",
    "print(model_cov)"
   ]
  },
  {
   "cell_type": "code",
   "execution_count": 19,
   "metadata": {},
   "outputs": [
    {
     "name": "stdout",
     "output_type": "stream",
     "text": [
      "Average MD for normal validation set: 3.3009472452871256\n",
      "Standard deviation of MDs for normal validation set: 2.6536497450032774\n",
      "Recommended threshold (3x std dev + avg): 11.261896480296958\n"
     ]
    },
    {
     "data": {
      "text/plain": [
       "(array([6., 1., 1., 5., 2., 2., 0., 3., 1., 0., 2., 0., 1., 1., 1., 1., 1.,\n",
       "        1., 0., 1.]),\n",
       " array([0.10853449, 0.57168218, 1.03482986, 1.49797755, 1.96112523,\n",
       "        2.42427292, 2.8874206 , 3.35056828, 3.81371597, 4.27686365,\n",
       "        4.74001134, 5.20315902, 5.66630671, 6.12945439, 6.59260208,\n",
       "        7.05574976, 7.51889745, 7.98204513, 8.44519281, 8.9083405 ,\n",
       "        9.37148818]),\n",
       " <a list of 20 Patch objects>)"
      ]
     },
     "execution_count": 19,
     "metadata": {},
     "output_type": "execute_result"
    },
    {
     "data": {
      "image/png": "[encoded data removed]",
      "text/plain": [
       "<Figure size 432x288 with 1 Axes>"
      ]
     },
     "metadata": {
      "needs_background": "light"
     },
     "output_type": "display_data"
    }
   ],
   "source": [
    "# Calculate the mahalanobis distance for each validation sample\n",
    "normal_mds = mahalanobis(X_val, model_mu, model_cov)\n",
    "print('Average MD for normal validation set:', np.average(normal_mds))\n",
    "print('Standard deviation of MDs for normal validation set:', np.std(normal_mds))\n",
    "print('Recommended threshold (3x std dev + avg):', (3*np.std(normal_mds)) + np.average(normal_mds))\n",
    "fig, ax = plt.subplots(1,1)\n",
    "ax.hist(normal_mds, bins=20, label='normal', color='blue', alpha=0.7)"
   ]
  },
  {
   "cell_type": "code",
   "execution_count": 24,
   "metadata": {},
   "outputs": [
    {
     "name": "stdout",
     "output_type": "stream",
     "text": [
      "Average MD for normal test set: 3.5490591550485666\n",
      "Standard deviation of MDs for normal test set: 2.4766375021335136\n"
     ]
    },
    {
     "data": {
      "text/plain": [
       "(array([6., 1., 1., 5., 2., 2., 0., 3., 1., 0., 2., 0., 1., 1., 1., 1., 1.,\n",
       "        1., 0., 1.]),\n",
       " array([0.10853449, 0.57168218, 1.03482986, 1.49797755, 1.96112523,\n",
       "        2.42427292, 2.8874206 , 3.35056828, 3.81371597, 4.27686365,\n",
       "        4.74001134, 5.20315902, 5.66630671, 6.12945439, 6.59260208,\n",
       "        7.05574976, 7.51889745, 7.98204513, 8.44519281, 8.9083405 ,\n",
       "        9.37148818]),\n",
       " <a list of 20 Patch objects>)"
      ]
     },
     "execution_count": 24,
     "metadata": {},
     "output_type": "execute_result"
    },
    {
     "data": {
      "image/png": "[encoded data removed]",
      "text/plain": [
       "<Figure size 432x288 with 1 Axes>"
      ]
     },
     "metadata": {
      "needs_background": "light"
     },
     "output_type": "display_data"
    }
   ],
   "source": [
    "# Calculate the mahalanobis distance for test sample \n",
    "normal_mds_test = mahalanobis(X_test, model_mu, model_cov)\n",
    "print('Average MD for normal test set:', np.average(normal_mds_test))\n",
    "print('Standard deviation of MDs for normal test set:', np.std(normal_mds_test))\n",
    "\n",
    "fig, ax = plt.subplots(1,1)\n",
    "ax.hist(normal_mds, bins=20, label='normal', color='blue', alpha=0.7)"
   ]
  },
  {
   "cell_type": "markdown",
   "metadata": {},
   "source": [
    "Select the first 175 records of anomaly_features so that last 25 can be used for final testing.  "
   ]
  },
  {
   "cell_type": "code",
   "execution_count": 21,
   "metadata": {},
   "outputs": [
    {
     "name": "stdout",
     "output_type": "stream",
     "text": [
      "Average MD for anomaly set: 40.315220854944776\n",
      "Standard deviation of MDs for validation set: 9.033521569517193\n"
     ]
    }
   ],
   "source": [
    "# Calculate the mahalanobis distance for each anomaly sample\n",
    "anomaly_features = anomaly_features_df[['mad_x','mad_y','mad_z']][:175]\n",
    "\n",
    "anomaly_mds = mahalanobis(anomaly_features, model_mu, model_cov)\n",
    "print('Average MD for anomaly set:', np.average(anomaly_mds))\n",
    "print('Standard deviation of MDs for validation set:', np.std(anomaly_mds))"
   ]
  },
  {
   "cell_type": "code",
   "execution_count": 23,
   "metadata": {},
   "outputs": [
    {
     "data": {
      "text/plain": [
       "Text(0.5, 1.0, 'Normal validation Vs Anomaly')"
      ]
     },
     "execution_count": 23,
     "metadata": {},
     "output_type": "execute_result"
    },
    {
     "data": {
      "image/png": "[encoded data removed]",
      "text/plain": [
       "<Figure size 432x288 with 1 Axes>"
      ]
     },
     "metadata": {
      "needs_background": "light"
     },
     "output_type": "display_data"
    }
   ],
   "source": [
    "# Plot histograms of normal validation vs. anomaly sets (MSEs)\n",
    "fig, ax = plt.subplots(1,1)\n",
    "plt.xscale(\"log\")\n",
    "ax.hist(normal_mds, bins=20, label='normal', color='blue', alpha=0.7)\n",
    "ax.hist(anomaly_mds, bins=20, label='anomaly', color='red', alpha=0.7)\n",
    "plt.title(\"Normal validation Vs Anomaly\")"
   ]
  },
  {
   "cell_type": "code",
   "execution_count": 25,
   "metadata": {},
   "outputs": [
    {
     "data": {
      "text/plain": [
       "Text(0.5, 1.0, 'Normal test Vs Anomaly')"
      ]
     },
     "execution_count": 25,
     "metadata": {},
     "output_type": "execute_result"
    },
    {
     "data": {
      "image/png": "[encoded data removed]",
      "text/plain": [
       "<Figure size 432x288 with 1 Axes>"
      ]
     },
     "metadata": {
      "needs_background": "light"
     },
     "output_type": "display_data"
    }
   ],
   "source": [
    "# Plot histograms of normal test vs. anomaly sets (MSEs)\n",
    "fig, ax = plt.subplots(1,1)\n",
    "plt.xscale(\"log\")\n",
    "ax.hist(normal_mds_test, bins=20, label='normal', color='blue', alpha=0.7)\n",
    "ax.hist(anomaly_mds, bins=20, label='anomaly', color='red', alpha=0.7)\n",
    "plt.title(\"Normal test Vs Anomaly\")"
   ]
  },
  {
   "cell_type": "code",
   "execution_count": 26,
   "metadata": {},
   "outputs": [],
   "source": [
    "# Choose a threshold\n",
    "anomaly_threshold = 11.261896480296958"
   ]
  },
  {
   "cell_type": "code",
   "execution_count": 45,
   "metadata": {},
   "outputs": [],
   "source": [
    "# Create a classifier (0 = normal, 1 = anomaly)\n",
    "def detect_anomaly(x, model_mu, model_cov, threshold=0):\n",
    "    md = mahalanobis(x, model_mu, model_cov)\n",
    "    if md > threshold:\n",
    "        return 1\n",
    "    else:\n",
    "        return 0"
   ]
  },
  {
   "cell_type": "code",
   "execution_count": 46,
   "metadata": {},
   "outputs": [
    {
     "data": {
      "text/plain": [
       "93     0\n",
       "114    0\n",
       "19     0\n",
       "69     0\n",
       "53     0\n",
       "135    0\n",
       "126    0\n",
       "14     0\n",
       "106    0\n",
       "112    0\n",
       "11     0\n",
       "4      0\n",
       "105    0\n",
       "42     0\n",
       "102    0\n",
       "110    0\n",
       "149    0\n",
       "35     0\n",
       "123    1\n",
       "31     0\n",
       "51     0\n",
       "75     0\n",
       "169    0\n",
       "73     0\n",
       "40     0\n",
       "85     0\n",
       "47     0\n",
       "dtype: int64"
      ]
     },
     "execution_count": 46,
     "metadata": {},
     "output_type": "execute_result"
    }
   ],
   "source": [
    "y_test_pred = X_test.apply(lambda x: detect_anomaly(x, model_mu, model_cov, anomaly_threshold), axis = 1)\n",
    "y_test_pred"
   ]
  },
  {
   "cell_type": "markdown",
   "metadata": {},
   "source": [
    "As shown above, the model  has identified  all the normal test set  as 'non-anomaly'."
   ]
  },
  {
   "cell_type": "markdown",
   "metadata": {},
   "source": [
    "Check for anomaly records.  "
   ]
  },
  {
   "cell_type": "code",
   "execution_count": 47,
   "metadata": {},
   "outputs": [
    {
     "data": {
      "text/plain": [
       "0      1\n",
       "1      1\n",
       "2      1\n",
       "3      1\n",
       "4      1\n",
       "      ..\n",
       "170    1\n",
       "171    1\n",
       "172    1\n",
       "173    1\n",
       "174    1\n",
       "Length: 175, dtype: int64"
      ]
     },
     "execution_count": 47,
     "metadata": {},
     "output_type": "execute_result"
    }
   ],
   "source": [
    "\n",
    "anomaly_pred = anomaly_features.apply(lambda x: detect_anomaly(x, model_mu, model_cov, anomaly_threshold), axis = 1)\n",
    "anomaly_pred"
   ]
  },
  {
   "cell_type": "markdown",
   "metadata": {},
   "source": [
    "Test with a mix of normal features and anomaly features.  \n",
    "We had retained 25 records of normal_features_df as well as anomaly_features_df of file for this testing.   "
   ]
  },
  {
   "cell_type": "code",
   "execution_count": 48,
   "metadata": {},
   "outputs": [
    {
     "data": {
      "text/plain": [
       "(175, 3)"
      ]
     },
     "execution_count": 48,
     "metadata": {},
     "output_type": "execute_result"
    }
   ],
   "source": [
    "normal_features.shape"
   ]
  },
  {
   "cell_type": "code",
   "execution_count": 49,
   "metadata": {},
   "outputs": [
    {
     "data": {
      "text/plain": [
       "(25, 4)"
      ]
     },
     "execution_count": 49,
     "metadata": {},
     "output_type": "execute_result"
    }
   ],
   "source": [
    "all_features = normal_features_df.copy()\n",
    "all_features = all_features[176:]\n",
    "all_features.shape"
   ]
  },
  {
   "cell_type": "code",
   "execution_count": 50,
   "metadata": {},
   "outputs": [
    {
     "data": {
      "text/html": [
       "<div>\n",
       "<style scoped>\n",
       "    .dataframe tbody tr th:only-of-type {\n",
       "        vertical-align: middle;\n",
       "    }\n",
       "\n",
       "    .dataframe tbody tr th {\n",
       "        vertical-align: top;\n",
       "    }\n",
       "\n",
       "    .dataframe thead th {\n",
       "        text-align: right;\n",
       "    }\n",
       "</style>\n",
       "<table border=\"1\" class=\"dataframe\">\n",
       "  <thead>\n",
       "    <tr style=\"text-align: right;\">\n",
       "      <th></th>\n",
       "      <th>mad_x</th>\n",
       "      <th>mad_y</th>\n",
       "      <th>mad_z</th>\n",
       "      <th>anomaly</th>\n",
       "    </tr>\n",
       "  </thead>\n",
       "  <tbody>\n",
       "    <tr>\n",
       "      <th>196</th>\n",
       "      <td>0.015137</td>\n",
       "      <td>0.012207</td>\n",
       "      <td>0.006348</td>\n",
       "      <td>0</td>\n",
       "    </tr>\n",
       "    <tr>\n",
       "      <th>197</th>\n",
       "      <td>0.015381</td>\n",
       "      <td>0.012696</td>\n",
       "      <td>0.006348</td>\n",
       "      <td>0</td>\n",
       "    </tr>\n",
       "    <tr>\n",
       "      <th>198</th>\n",
       "      <td>0.014404</td>\n",
       "      <td>0.011231</td>\n",
       "      <td>0.005859</td>\n",
       "      <td>0</td>\n",
       "    </tr>\n",
       "    <tr>\n",
       "      <th>199</th>\n",
       "      <td>0.014648</td>\n",
       "      <td>0.012207</td>\n",
       "      <td>0.006836</td>\n",
       "      <td>0</td>\n",
       "    </tr>\n",
       "    <tr>\n",
       "      <th>200</th>\n",
       "      <td>0.016114</td>\n",
       "      <td>0.011719</td>\n",
       "      <td>0.006347</td>\n",
       "      <td>0</td>\n",
       "    </tr>\n",
       "  </tbody>\n",
       "</table>\n",
       "</div>"
      ],
      "text/plain": [
       "        mad_x     mad_y     mad_z  anomaly\n",
       "196  0.015137  0.012207  0.006348        0\n",
       "197  0.015381  0.012696  0.006348        0\n",
       "198  0.014404  0.011231  0.005859        0\n",
       "199  0.014648  0.012207  0.006836        0\n",
       "200  0.016114  0.011719  0.006347        0"
      ]
     },
     "execution_count": 50,
     "metadata": {},
     "output_type": "execute_result"
    }
   ],
   "source": [
    "all_features.tail()"
   ]
  },
  {
   "cell_type": "code",
   "execution_count": 51,
   "metadata": {},
   "outputs": [
    {
     "data": {
      "text/html": [
       "<div>\n",
       "<style scoped>\n",
       "    .dataframe tbody tr th:only-of-type {\n",
       "        vertical-align: middle;\n",
       "    }\n",
       "\n",
       "    .dataframe tbody tr th {\n",
       "        vertical-align: top;\n",
       "    }\n",
       "\n",
       "    .dataframe thead th {\n",
       "        text-align: right;\n",
       "    }\n",
       "</style>\n",
       "<table border=\"1\" class=\"dataframe\">\n",
       "  <thead>\n",
       "    <tr style=\"text-align: right;\">\n",
       "      <th></th>\n",
       "      <th>mad_x</th>\n",
       "      <th>mad_y</th>\n",
       "      <th>mad_z</th>\n",
       "      <th>anomaly</th>\n",
       "    </tr>\n",
       "  </thead>\n",
       "  <tbody>\n",
       "    <tr>\n",
       "      <th>176</th>\n",
       "      <td>0.009277</td>\n",
       "      <td>0.007813</td>\n",
       "      <td>0.006836</td>\n",
       "      <td>1</td>\n",
       "    </tr>\n",
       "    <tr>\n",
       "      <th>177</th>\n",
       "      <td>0.009766</td>\n",
       "      <td>0.009766</td>\n",
       "      <td>0.006348</td>\n",
       "      <td>1</td>\n",
       "    </tr>\n",
       "    <tr>\n",
       "      <th>178</th>\n",
       "      <td>0.009277</td>\n",
       "      <td>0.008301</td>\n",
       "      <td>0.006348</td>\n",
       "      <td>1</td>\n",
       "    </tr>\n",
       "    <tr>\n",
       "      <th>179</th>\n",
       "      <td>0.009765</td>\n",
       "      <td>0.008301</td>\n",
       "      <td>0.007080</td>\n",
       "      <td>1</td>\n",
       "    </tr>\n",
       "    <tr>\n",
       "      <th>180</th>\n",
       "      <td>0.009277</td>\n",
       "      <td>0.009277</td>\n",
       "      <td>0.006836</td>\n",
       "      <td>1</td>\n",
       "    </tr>\n",
       "    <tr>\n",
       "      <th>181</th>\n",
       "      <td>0.010254</td>\n",
       "      <td>0.009277</td>\n",
       "      <td>0.006348</td>\n",
       "      <td>1</td>\n",
       "    </tr>\n",
       "    <tr>\n",
       "      <th>182</th>\n",
       "      <td>0.009765</td>\n",
       "      <td>0.009033</td>\n",
       "      <td>0.006347</td>\n",
       "      <td>1</td>\n",
       "    </tr>\n",
       "    <tr>\n",
       "      <th>183</th>\n",
       "      <td>0.008789</td>\n",
       "      <td>0.008301</td>\n",
       "      <td>0.006347</td>\n",
       "      <td>1</td>\n",
       "    </tr>\n",
       "    <tr>\n",
       "      <th>184</th>\n",
       "      <td>0.009522</td>\n",
       "      <td>0.008545</td>\n",
       "      <td>0.006348</td>\n",
       "      <td>1</td>\n",
       "    </tr>\n",
       "    <tr>\n",
       "      <th>185</th>\n",
       "      <td>0.008789</td>\n",
       "      <td>0.009277</td>\n",
       "      <td>0.006836</td>\n",
       "      <td>1</td>\n",
       "    </tr>\n",
       "    <tr>\n",
       "      <th>186</th>\n",
       "      <td>0.009277</td>\n",
       "      <td>0.008789</td>\n",
       "      <td>0.006104</td>\n",
       "      <td>1</td>\n",
       "    </tr>\n",
       "    <tr>\n",
       "      <th>187</th>\n",
       "      <td>0.008789</td>\n",
       "      <td>0.009277</td>\n",
       "      <td>0.007324</td>\n",
       "      <td>1</td>\n",
       "    </tr>\n",
       "    <tr>\n",
       "      <th>188</th>\n",
       "      <td>0.009766</td>\n",
       "      <td>0.008789</td>\n",
       "      <td>0.007324</td>\n",
       "      <td>1</td>\n",
       "    </tr>\n",
       "    <tr>\n",
       "      <th>189</th>\n",
       "      <td>0.009277</td>\n",
       "      <td>0.008789</td>\n",
       "      <td>0.006836</td>\n",
       "      <td>1</td>\n",
       "    </tr>\n",
       "    <tr>\n",
       "      <th>190</th>\n",
       "      <td>0.009766</td>\n",
       "      <td>0.009277</td>\n",
       "      <td>0.006592</td>\n",
       "      <td>1</td>\n",
       "    </tr>\n",
       "    <tr>\n",
       "      <th>191</th>\n",
       "      <td>0.008789</td>\n",
       "      <td>0.009277</td>\n",
       "      <td>0.006348</td>\n",
       "      <td>1</td>\n",
       "    </tr>\n",
       "    <tr>\n",
       "      <th>192</th>\n",
       "      <td>0.010254</td>\n",
       "      <td>0.008789</td>\n",
       "      <td>0.006592</td>\n",
       "      <td>1</td>\n",
       "    </tr>\n",
       "    <tr>\n",
       "      <th>193</th>\n",
       "      <td>0.009277</td>\n",
       "      <td>0.009277</td>\n",
       "      <td>0.006836</td>\n",
       "      <td>1</td>\n",
       "    </tr>\n",
       "    <tr>\n",
       "      <th>194</th>\n",
       "      <td>0.009277</td>\n",
       "      <td>0.009277</td>\n",
       "      <td>0.006348</td>\n",
       "      <td>1</td>\n",
       "    </tr>\n",
       "    <tr>\n",
       "      <th>195</th>\n",
       "      <td>0.009522</td>\n",
       "      <td>0.008789</td>\n",
       "      <td>0.006836</td>\n",
       "      <td>1</td>\n",
       "    </tr>\n",
       "    <tr>\n",
       "      <th>196</th>\n",
       "      <td>0.008301</td>\n",
       "      <td>0.008789</td>\n",
       "      <td>0.006348</td>\n",
       "      <td>1</td>\n",
       "    </tr>\n",
       "    <tr>\n",
       "      <th>197</th>\n",
       "      <td>0.009278</td>\n",
       "      <td>0.008301</td>\n",
       "      <td>0.006347</td>\n",
       "      <td>1</td>\n",
       "    </tr>\n",
       "    <tr>\n",
       "      <th>198</th>\n",
       "      <td>0.009277</td>\n",
       "      <td>0.008301</td>\n",
       "      <td>0.006348</td>\n",
       "      <td>1</td>\n",
       "    </tr>\n",
       "    <tr>\n",
       "      <th>199</th>\n",
       "      <td>0.009765</td>\n",
       "      <td>0.008789</td>\n",
       "      <td>0.006348</td>\n",
       "      <td>1</td>\n",
       "    </tr>\n",
       "    <tr>\n",
       "      <th>200</th>\n",
       "      <td>0.009766</td>\n",
       "      <td>0.008789</td>\n",
       "      <td>0.006836</td>\n",
       "      <td>1</td>\n",
       "    </tr>\n",
       "  </tbody>\n",
       "</table>\n",
       "</div>"
      ],
      "text/plain": [
       "        mad_x     mad_y     mad_z  anomaly\n",
       "176  0.009277  0.007813  0.006836        1\n",
       "177  0.009766  0.009766  0.006348        1\n",
       "178  0.009277  0.008301  0.006348        1\n",
       "179  0.009765  0.008301  0.007080        1\n",
       "180  0.009277  0.009277  0.006836        1\n",
       "181  0.010254  0.009277  0.006348        1\n",
       "182  0.009765  0.009033  0.006347        1\n",
       "183  0.008789  0.008301  0.006347        1\n",
       "184  0.009522  0.008545  0.006348        1\n",
       "185  0.008789  0.009277  0.006836        1\n",
       "186  0.009277  0.008789  0.006104        1\n",
       "187  0.008789  0.009277  0.007324        1\n",
       "188  0.009766  0.008789  0.007324        1\n",
       "189  0.009277  0.008789  0.006836        1\n",
       "190  0.009766  0.009277  0.006592        1\n",
       "191  0.008789  0.009277  0.006348        1\n",
       "192  0.010254  0.008789  0.006592        1\n",
       "193  0.009277  0.009277  0.006836        1\n",
       "194  0.009277  0.009277  0.006348        1\n",
       "195  0.009522  0.008789  0.006836        1\n",
       "196  0.008301  0.008789  0.006348        1\n",
       "197  0.009278  0.008301  0.006347        1\n",
       "198  0.009277  0.008301  0.006348        1\n",
       "199  0.009765  0.008789  0.006348        1\n",
       "200  0.009766  0.008789  0.006836        1"
      ]
     },
     "execution_count": 51,
     "metadata": {},
     "output_type": "execute_result"
    }
   ],
   "source": [
    "anomaly_features_df[176:]"
   ]
  },
  {
   "cell_type": "code",
   "execution_count": 52,
   "metadata": {},
   "outputs": [
    {
     "data": {
      "text/plain": [
       "(50, 4)"
      ]
     },
     "execution_count": 52,
     "metadata": {},
     "output_type": "execute_result"
    }
   ],
   "source": [
    "all_features = all_features.append(anomaly_features_df[176:], ignore_index = True)\n",
    "all_features.shape"
   ]
  },
  {
   "cell_type": "code",
   "execution_count": 53,
   "metadata": {},
   "outputs": [
    {
     "data": {
      "text/html": [
       "<div>\n",
       "<style scoped>\n",
       "    .dataframe tbody tr th:only-of-type {\n",
       "        vertical-align: middle;\n",
       "    }\n",
       "\n",
       "    .dataframe tbody tr th {\n",
       "        vertical-align: top;\n",
       "    }\n",
       "\n",
       "    .dataframe thead th {\n",
       "        text-align: right;\n",
       "    }\n",
       "</style>\n",
       "<table border=\"1\" class=\"dataframe\">\n",
       "  <thead>\n",
       "    <tr style=\"text-align: right;\">\n",
       "      <th></th>\n",
       "      <th>mad_x</th>\n",
       "      <th>mad_y</th>\n",
       "      <th>mad_z</th>\n",
       "      <th>anomaly</th>\n",
       "    </tr>\n",
       "  </thead>\n",
       "  <tbody>\n",
       "    <tr>\n",
       "      <th>45</th>\n",
       "      <td>0.008301</td>\n",
       "      <td>0.008789</td>\n",
       "      <td>0.006348</td>\n",
       "      <td>1</td>\n",
       "    </tr>\n",
       "    <tr>\n",
       "      <th>46</th>\n",
       "      <td>0.009278</td>\n",
       "      <td>0.008301</td>\n",
       "      <td>0.006347</td>\n",
       "      <td>1</td>\n",
       "    </tr>\n",
       "    <tr>\n",
       "      <th>47</th>\n",
       "      <td>0.009277</td>\n",
       "      <td>0.008301</td>\n",
       "      <td>0.006348</td>\n",
       "      <td>1</td>\n",
       "    </tr>\n",
       "    <tr>\n",
       "      <th>48</th>\n",
       "      <td>0.009765</td>\n",
       "      <td>0.008789</td>\n",
       "      <td>0.006348</td>\n",
       "      <td>1</td>\n",
       "    </tr>\n",
       "    <tr>\n",
       "      <th>49</th>\n",
       "      <td>0.009766</td>\n",
       "      <td>0.008789</td>\n",
       "      <td>0.006836</td>\n",
       "      <td>1</td>\n",
       "    </tr>\n",
       "  </tbody>\n",
       "</table>\n",
       "</div>"
      ],
      "text/plain": [
       "       mad_x     mad_y     mad_z  anomaly\n",
       "45  0.008301  0.008789  0.006348        1\n",
       "46  0.009278  0.008301  0.006347        1\n",
       "47  0.009277  0.008301  0.006348        1\n",
       "48  0.009765  0.008789  0.006348        1\n",
       "49  0.009766  0.008789  0.006836        1"
      ]
     },
     "execution_count": 53,
     "metadata": {},
     "output_type": "execute_result"
    }
   ],
   "source": [
    "all_features.tail()"
   ]
  },
  {
   "cell_type": "markdown",
   "metadata": {},
   "source": [
    "Shuffle the  records so that there is a mix of anomaly and  non anomaly.  "
   ]
  },
  {
   "cell_type": "code",
   "execution_count": 54,
   "metadata": {},
   "outputs": [
    {
     "data": {
      "text/html": [
       "<div>\n",
       "<style scoped>\n",
       "    .dataframe tbody tr th:only-of-type {\n",
       "        vertical-align: middle;\n",
       "    }\n",
       "\n",
       "    .dataframe tbody tr th {\n",
       "        vertical-align: top;\n",
       "    }\n",
       "\n",
       "    .dataframe thead th {\n",
       "        text-align: right;\n",
       "    }\n",
       "</style>\n",
       "<table border=\"1\" class=\"dataframe\">\n",
       "  <thead>\n",
       "    <tr style=\"text-align: right;\">\n",
       "      <th></th>\n",
       "      <th>mad_x</th>\n",
       "      <th>mad_y</th>\n",
       "      <th>mad_z</th>\n",
       "      <th>anomaly</th>\n",
       "    </tr>\n",
       "  </thead>\n",
       "  <tbody>\n",
       "    <tr>\n",
       "      <th>17</th>\n",
       "      <td>0.014404</td>\n",
       "      <td>0.012207</td>\n",
       "      <td>0.006348</td>\n",
       "      <td>0</td>\n",
       "    </tr>\n",
       "    <tr>\n",
       "      <th>21</th>\n",
       "      <td>0.015381</td>\n",
       "      <td>0.012696</td>\n",
       "      <td>0.006348</td>\n",
       "      <td>0</td>\n",
       "    </tr>\n",
       "    <tr>\n",
       "      <th>6</th>\n",
       "      <td>0.014161</td>\n",
       "      <td>0.011719</td>\n",
       "      <td>0.005859</td>\n",
       "      <td>0</td>\n",
       "    </tr>\n",
       "    <tr>\n",
       "      <th>16</th>\n",
       "      <td>0.014648</td>\n",
       "      <td>0.012207</td>\n",
       "      <td>0.005859</td>\n",
       "      <td>0</td>\n",
       "    </tr>\n",
       "    <tr>\n",
       "      <th>3</th>\n",
       "      <td>0.014893</td>\n",
       "      <td>0.011231</td>\n",
       "      <td>0.005859</td>\n",
       "      <td>0</td>\n",
       "    </tr>\n",
       "    <tr>\n",
       "      <th>37</th>\n",
       "      <td>0.009766</td>\n",
       "      <td>0.008789</td>\n",
       "      <td>0.007324</td>\n",
       "      <td>1</td>\n",
       "    </tr>\n",
       "    <tr>\n",
       "      <th>1</th>\n",
       "      <td>0.015137</td>\n",
       "      <td>0.012207</td>\n",
       "      <td>0.006104</td>\n",
       "      <td>0</td>\n",
       "    </tr>\n",
       "    <tr>\n",
       "      <th>33</th>\n",
       "      <td>0.009522</td>\n",
       "      <td>0.008545</td>\n",
       "      <td>0.006348</td>\n",
       "      <td>1</td>\n",
       "    </tr>\n",
       "    <tr>\n",
       "      <th>26</th>\n",
       "      <td>0.009766</td>\n",
       "      <td>0.009766</td>\n",
       "      <td>0.006348</td>\n",
       "      <td>1</td>\n",
       "    </tr>\n",
       "    <tr>\n",
       "      <th>8</th>\n",
       "      <td>0.016601</td>\n",
       "      <td>0.012207</td>\n",
       "      <td>0.006347</td>\n",
       "      <td>0</td>\n",
       "    </tr>\n",
       "    <tr>\n",
       "      <th>12</th>\n",
       "      <td>0.016113</td>\n",
       "      <td>0.012207</td>\n",
       "      <td>0.006104</td>\n",
       "      <td>0</td>\n",
       "    </tr>\n",
       "    <tr>\n",
       "      <th>39</th>\n",
       "      <td>0.009766</td>\n",
       "      <td>0.009277</td>\n",
       "      <td>0.006592</td>\n",
       "      <td>1</td>\n",
       "    </tr>\n",
       "    <tr>\n",
       "      <th>18</th>\n",
       "      <td>0.014404</td>\n",
       "      <td>0.011231</td>\n",
       "      <td>0.006347</td>\n",
       "      <td>0</td>\n",
       "    </tr>\n",
       "    <tr>\n",
       "      <th>10</th>\n",
       "      <td>0.013916</td>\n",
       "      <td>0.011230</td>\n",
       "      <td>0.006347</td>\n",
       "      <td>0</td>\n",
       "    </tr>\n",
       "    <tr>\n",
       "      <th>35</th>\n",
       "      <td>0.009277</td>\n",
       "      <td>0.008789</td>\n",
       "      <td>0.006104</td>\n",
       "      <td>1</td>\n",
       "    </tr>\n",
       "    <tr>\n",
       "      <th>46</th>\n",
       "      <td>0.009278</td>\n",
       "      <td>0.008301</td>\n",
       "      <td>0.006347</td>\n",
       "      <td>1</td>\n",
       "    </tr>\n",
       "    <tr>\n",
       "      <th>29</th>\n",
       "      <td>0.009277</td>\n",
       "      <td>0.009277</td>\n",
       "      <td>0.006836</td>\n",
       "      <td>1</td>\n",
       "    </tr>\n",
       "    <tr>\n",
       "      <th>34</th>\n",
       "      <td>0.008789</td>\n",
       "      <td>0.009277</td>\n",
       "      <td>0.006836</td>\n",
       "      <td>1</td>\n",
       "    </tr>\n",
       "    <tr>\n",
       "      <th>44</th>\n",
       "      <td>0.009522</td>\n",
       "      <td>0.008789</td>\n",
       "      <td>0.006836</td>\n",
       "      <td>1</td>\n",
       "    </tr>\n",
       "    <tr>\n",
       "      <th>4</th>\n",
       "      <td>0.015137</td>\n",
       "      <td>0.011719</td>\n",
       "      <td>0.006348</td>\n",
       "      <td>0</td>\n",
       "    </tr>\n",
       "    <tr>\n",
       "      <th>40</th>\n",
       "      <td>0.008789</td>\n",
       "      <td>0.009277</td>\n",
       "      <td>0.006348</td>\n",
       "      <td>1</td>\n",
       "    </tr>\n",
       "    <tr>\n",
       "      <th>24</th>\n",
       "      <td>0.016114</td>\n",
       "      <td>0.011719</td>\n",
       "      <td>0.006347</td>\n",
       "      <td>0</td>\n",
       "    </tr>\n",
       "    <tr>\n",
       "      <th>0</th>\n",
       "      <td>0.014649</td>\n",
       "      <td>0.011963</td>\n",
       "      <td>0.006348</td>\n",
       "      <td>0</td>\n",
       "    </tr>\n",
       "    <tr>\n",
       "      <th>19</th>\n",
       "      <td>0.014649</td>\n",
       "      <td>0.012207</td>\n",
       "      <td>0.006348</td>\n",
       "      <td>0</td>\n",
       "    </tr>\n",
       "    <tr>\n",
       "      <th>13</th>\n",
       "      <td>0.015137</td>\n",
       "      <td>0.011231</td>\n",
       "      <td>0.005860</td>\n",
       "      <td>0</td>\n",
       "    </tr>\n",
       "    <tr>\n",
       "      <th>15</th>\n",
       "      <td>0.013916</td>\n",
       "      <td>0.011719</td>\n",
       "      <td>0.005860</td>\n",
       "      <td>0</td>\n",
       "    </tr>\n",
       "    <tr>\n",
       "      <th>23</th>\n",
       "      <td>0.014648</td>\n",
       "      <td>0.012207</td>\n",
       "      <td>0.006836</td>\n",
       "      <td>0</td>\n",
       "    </tr>\n",
       "    <tr>\n",
       "      <th>49</th>\n",
       "      <td>0.009766</td>\n",
       "      <td>0.008789</td>\n",
       "      <td>0.006836</td>\n",
       "      <td>1</td>\n",
       "    </tr>\n",
       "    <tr>\n",
       "      <th>41</th>\n",
       "      <td>0.010254</td>\n",
       "      <td>0.008789</td>\n",
       "      <td>0.006592</td>\n",
       "      <td>1</td>\n",
       "    </tr>\n",
       "    <tr>\n",
       "      <th>30</th>\n",
       "      <td>0.010254</td>\n",
       "      <td>0.009277</td>\n",
       "      <td>0.006348</td>\n",
       "      <td>1</td>\n",
       "    </tr>\n",
       "    <tr>\n",
       "      <th>42</th>\n",
       "      <td>0.009277</td>\n",
       "      <td>0.009277</td>\n",
       "      <td>0.006836</td>\n",
       "      <td>1</td>\n",
       "    </tr>\n",
       "    <tr>\n",
       "      <th>27</th>\n",
       "      <td>0.009277</td>\n",
       "      <td>0.008301</td>\n",
       "      <td>0.006348</td>\n",
       "      <td>1</td>\n",
       "    </tr>\n",
       "    <tr>\n",
       "      <th>7</th>\n",
       "      <td>0.014160</td>\n",
       "      <td>0.011718</td>\n",
       "      <td>0.005860</td>\n",
       "      <td>0</td>\n",
       "    </tr>\n",
       "    <tr>\n",
       "      <th>5</th>\n",
       "      <td>0.015136</td>\n",
       "      <td>0.011719</td>\n",
       "      <td>0.006348</td>\n",
       "      <td>0</td>\n",
       "    </tr>\n",
       "    <tr>\n",
       "      <th>20</th>\n",
       "      <td>0.015137</td>\n",
       "      <td>0.012207</td>\n",
       "      <td>0.006348</td>\n",
       "      <td>0</td>\n",
       "    </tr>\n",
       "    <tr>\n",
       "      <th>22</th>\n",
       "      <td>0.014404</td>\n",
       "      <td>0.011231</td>\n",
       "      <td>0.005859</td>\n",
       "      <td>0</td>\n",
       "    </tr>\n",
       "    <tr>\n",
       "      <th>47</th>\n",
       "      <td>0.009277</td>\n",
       "      <td>0.008301</td>\n",
       "      <td>0.006348</td>\n",
       "      <td>1</td>\n",
       "    </tr>\n",
       "    <tr>\n",
       "      <th>25</th>\n",
       "      <td>0.009277</td>\n",
       "      <td>0.007813</td>\n",
       "      <td>0.006836</td>\n",
       "      <td>1</td>\n",
       "    </tr>\n",
       "    <tr>\n",
       "      <th>43</th>\n",
       "      <td>0.009277</td>\n",
       "      <td>0.009277</td>\n",
       "      <td>0.006348</td>\n",
       "      <td>1</td>\n",
       "    </tr>\n",
       "    <tr>\n",
       "      <th>48</th>\n",
       "      <td>0.009765</td>\n",
       "      <td>0.008789</td>\n",
       "      <td>0.006348</td>\n",
       "      <td>1</td>\n",
       "    </tr>\n",
       "    <tr>\n",
       "      <th>2</th>\n",
       "      <td>0.014893</td>\n",
       "      <td>0.011719</td>\n",
       "      <td>0.005859</td>\n",
       "      <td>0</td>\n",
       "    </tr>\n",
       "    <tr>\n",
       "      <th>9</th>\n",
       "      <td>0.015137</td>\n",
       "      <td>0.011230</td>\n",
       "      <td>0.005860</td>\n",
       "      <td>0</td>\n",
       "    </tr>\n",
       "    <tr>\n",
       "      <th>36</th>\n",
       "      <td>0.008789</td>\n",
       "      <td>0.009277</td>\n",
       "      <td>0.007324</td>\n",
       "      <td>1</td>\n",
       "    </tr>\n",
       "    <tr>\n",
       "      <th>32</th>\n",
       "      <td>0.008789</td>\n",
       "      <td>0.008301</td>\n",
       "      <td>0.006347</td>\n",
       "      <td>1</td>\n",
       "    </tr>\n",
       "    <tr>\n",
       "      <th>11</th>\n",
       "      <td>0.015137</td>\n",
       "      <td>0.012207</td>\n",
       "      <td>0.005859</td>\n",
       "      <td>0</td>\n",
       "    </tr>\n",
       "    <tr>\n",
       "      <th>45</th>\n",
       "      <td>0.008301</td>\n",
       "      <td>0.008789</td>\n",
       "      <td>0.006348</td>\n",
       "      <td>1</td>\n",
       "    </tr>\n",
       "    <tr>\n",
       "      <th>31</th>\n",
       "      <td>0.009765</td>\n",
       "      <td>0.009033</td>\n",
       "      <td>0.006347</td>\n",
       "      <td>1</td>\n",
       "    </tr>\n",
       "    <tr>\n",
       "      <th>28</th>\n",
       "      <td>0.009765</td>\n",
       "      <td>0.008301</td>\n",
       "      <td>0.007080</td>\n",
       "      <td>1</td>\n",
       "    </tr>\n",
       "    <tr>\n",
       "      <th>38</th>\n",
       "      <td>0.009277</td>\n",
       "      <td>0.008789</td>\n",
       "      <td>0.006836</td>\n",
       "      <td>1</td>\n",
       "    </tr>\n",
       "    <tr>\n",
       "      <th>14</th>\n",
       "      <td>0.014893</td>\n",
       "      <td>0.011231</td>\n",
       "      <td>0.006348</td>\n",
       "      <td>0</td>\n",
       "    </tr>\n",
       "  </tbody>\n",
       "</table>\n",
       "</div>"
      ],
      "text/plain": [
       "       mad_x     mad_y     mad_z  anomaly\n",
       "17  0.014404  0.012207  0.006348        0\n",
       "21  0.015381  0.012696  0.006348        0\n",
       "6   0.014161  0.011719  0.005859        0\n",
       "16  0.014648  0.012207  0.005859        0\n",
       "3   0.014893  0.011231  0.005859        0\n",
       "37  0.009766  0.008789  0.007324        1\n",
       "1   0.015137  0.012207  0.006104        0\n",
       "33  0.009522  0.008545  0.006348        1\n",
       "26  0.009766  0.009766  0.006348        1\n",
       "8   0.016601  0.012207  0.006347        0\n",
       "12  0.016113  0.012207  0.006104        0\n",
       "39  0.009766  0.009277  0.006592        1\n",
       "18  0.014404  0.011231  0.006347        0\n",
       "10  0.013916  0.011230  0.006347        0\n",
       "35  0.009277  0.008789  0.006104        1\n",
       "46  0.009278  0.008301  0.006347        1\n",
       "29  0.009277  0.009277  0.006836        1\n",
       "34  0.008789  0.009277  0.006836        1\n",
       "44  0.009522  0.008789  0.006836        1\n",
       "4   0.015137  0.011719  0.006348        0\n",
       "40  0.008789  0.009277  0.006348        1\n",
       "24  0.016114  0.011719  0.006347        0\n",
       "0   0.014649  0.011963  0.006348        0\n",
       "19  0.014649  0.012207  0.006348        0\n",
       "13  0.015137  0.011231  0.005860        0\n",
       "15  0.013916  0.011719  0.005860        0\n",
       "23  0.014648  0.012207  0.006836        0\n",
       "49  0.009766  0.008789  0.006836        1\n",
       "41  0.010254  0.008789  0.006592        1\n",
       "30  0.010254  0.009277  0.006348        1\n",
       "42  0.009277  0.009277  0.006836        1\n",
       "27  0.009277  0.008301  0.006348        1\n",
       "7   0.014160  0.011718  0.005860        0\n",
       "5   0.015136  0.011719  0.006348        0\n",
       "20  0.015137  0.012207  0.006348        0\n",
       "22  0.014404  0.011231  0.005859        0\n",
       "47  0.009277  0.008301  0.006348        1\n",
       "25  0.009277  0.007813  0.006836        1\n",
       "43  0.009277  0.009277  0.006348        1\n",
       "48  0.009765  0.008789  0.006348        1\n",
       "2   0.014893  0.011719  0.005859        0\n",
       "9   0.015137  0.011230  0.005860        0\n",
       "36  0.008789  0.009277  0.007324        1\n",
       "32  0.008789  0.008301  0.006347        1\n",
       "11  0.015137  0.012207  0.005859        0\n",
       "45  0.008301  0.008789  0.006348        1\n",
       "31  0.009765  0.009033  0.006347        1\n",
       "28  0.009765  0.008301  0.007080        1\n",
       "38  0.009277  0.008789  0.006836        1\n",
       "14  0.014893  0.011231  0.006348        0"
      ]
     },
     "execution_count": 54,
     "metadata": {},
     "output_type": "execute_result"
    }
   ],
   "source": [
    "all_features = all_features.sample(frac =1)\n",
    "all_features"
   ]
  },
  {
   "cell_type": "markdown",
   "metadata": {},
   "source": [
    "With the mix of normal and anomaly records , check if the Mahalanobis Distance can accurately identify anomaly.   "
   ]
  },
  {
   "cell_type": "code",
   "execution_count": 55,
   "metadata": {},
   "outputs": [
    {
     "data": {
      "text/plain": [
       "17    0\n",
       "21    0\n",
       "6     0\n",
       "16    0\n",
       "3     0\n",
       "37    1\n",
       "1     0\n",
       "33    1\n",
       "26    1\n",
       "8     0\n",
       "12    0\n",
       "39    1\n",
       "18    0\n",
       "10    0\n",
       "35    1\n",
       "46    1\n",
       "29    1\n",
       "34    1\n",
       "44    1\n",
       "4     0\n",
       "40    1\n",
       "24    0\n",
       "0     0\n",
       "19    0\n",
       "13    0\n",
       "15    0\n",
       "23    0\n",
       "49    1\n",
       "41    1\n",
       "30    1\n",
       "42    1\n",
       "27    1\n",
       "7     0\n",
       "5     0\n",
       "20    0\n",
       "22    0\n",
       "47    1\n",
       "25    1\n",
       "43    1\n",
       "48    1\n",
       "2     0\n",
       "9     0\n",
       "36    1\n",
       "32    1\n",
       "11    0\n",
       "45    1\n",
       "31    1\n",
       "28    1\n",
       "38    1\n",
       "14    0\n",
       "dtype: int64"
      ]
     },
     "execution_count": 55,
     "metadata": {},
     "output_type": "execute_result"
    }
   ],
   "source": [
    "final_test_data = all_features[['mad_x','mad_y','mad_z']]\n",
    "\n",
    "all_features_pred = final_test_data.apply(lambda x: detect_anomaly(x, model_mu, model_cov, anomaly_threshold), axis = 1)\n",
    "all_features_pred"
   ]
  },
  {
   "cell_type": "code",
   "execution_count": 56,
   "metadata": {},
   "outputs": [
    {
     "data": {
      "text/plain": [
       "array([[25,  0],\n",
       "       [ 0, 25]])"
      ]
     },
     "execution_count": 56,
     "metadata": {},
     "output_type": "execute_result"
    }
   ],
   "source": [
    "cm = confusion_matrix(all_features['anomaly'], all_features_pred)\n",
    "cm"
   ]
  },
  {
   "cell_type": "code",
   "execution_count": 57,
   "metadata": {},
   "outputs": [
    {
     "data": {
      "text/plain": [
       "Text(33.0, 0.5, 'Actual')"
      ]
     },
     "execution_count": 57,
     "metadata": {},
     "output_type": "execute_result"
    },
    {
     "data": {
      "image/png": "[encoded data removed]",
      "text/plain": [
       "<Figure size 432x288 with 2 Axes>"
      ]
     },
     "metadata": {
      "needs_background": "light"
     },
     "output_type": "display_data"
    }
   ],
   "source": [
    "# Plot the confusion matrix\n",
    "df_cm = pd.DataFrame(cm, index=['normal', 'anomaly'], columns=['normal', 'anomaly'])\n",
    "plt.figure()\n",
    "sn.heatmap(df_cm, annot=True)\n",
    "plt.title('Confusion Matrix')\n",
    "plt.xlabel('Prediction')\n",
    "plt.ylabel('Actual')"
   ]
  },
  {
   "cell_type": "code",
   "execution_count": null,
   "metadata": {},
   "outputs": [],
   "source": []
  }
 ],
 "metadata": {
  "kernelspec": {
   "display_name": "Python 3",
   "language": "python",
   "name": "python3"
  },
  "language_info": {
   "codemirror_mode": {
    "name": "ipython",
    "version": 3
   },
   "file_extension": ".py",
   "mimetype": "text/x-python",
   "name": "python",
   "nbconvert_exporter": "python",
   "pygments_lexer": "ipython3",
   "version": "3.8.3"
  }
 },
 "nbformat": 4,
 "nbformat_minor": 4
}
