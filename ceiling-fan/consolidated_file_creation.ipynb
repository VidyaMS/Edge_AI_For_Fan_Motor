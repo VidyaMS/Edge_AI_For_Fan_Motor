{
 "cells": [
  {
   "cell_type": "markdown",
   "metadata": {},
   "source": [
    "In this notebook , various files containing the accelerometer readings are combined to create two files -  a file conatining the normal opertaion records and the other containing anomaly operation records.  \n"
   ]
  },
  {
   "cell_type": "code",
   "execution_count": 1,
   "metadata": {},
   "outputs": [],
   "source": [
    "import pandas as pd\n",
    "import numpy as np\n",
    "import matplotlib.pyplot as plt\n",
    "%matplotlib inline"
   ]
  },
  {
   "cell_type": "code",
   "execution_count": 2,
   "metadata": {},
   "outputs": [],
   "source": [
    "low_0_data =  pd.read_csv(\"fan_0_weight_0_speed_0.csv\")\n",
    "medium_0_data =  pd.read_csv(\"fan_0_weight_0_speed_1.csv\")\n",
    "high_0_data =  pd.read_csv(\"fan_0_weight_0_speed_2.csv\")"
   ]
  },
  {
   "cell_type": "code",
   "execution_count": 3,
   "metadata": {},
   "outputs": [],
   "source": [
    "low_1_data =  pd.read_csv(\"fan_0_weight_1_speed_0.csv\")\n",
    "medium_1_data =  pd.read_csv(\"fan_0_weight_1_speed_1.csv\")\n",
    "high_1_data =  pd.read_csv(\"fan_0_weight_1_speed_2.csv\")"
   ]
  },
  {
   "cell_type": "markdown",
   "metadata": {},
   "source": [
    "select the first 200 set of samples from each of the above file to create a consolidated file \n",
    "that containes records for the normal operation of the fan.  "
   ]
  },
  {
   "cell_type": "code",
   "execution_count": 4,
   "metadata": {},
   "outputs": [],
   "source": [
    "def create_consolidated_file(file):\n",
    "    \"\"\"\n",
    "    slice the first 200 counts of data from each file.\n",
    "    \"\"\"\n",
    "    \n",
    "    consolidated_file = file.copy()\n",
    "    consolidated_file = consolidated_file[consolidated_file['count'] <=200]\n",
    "    \n",
    "    return consolidated_file\n"
   ]
  },
  {
   "cell_type": "code",
   "execution_count": 5,
   "metadata": {},
   "outputs": [
    {
     "data": {
      "text/html": [
       "<div>\n",
       "<style scoped>\n",
       "    .dataframe tbody tr th:only-of-type {\n",
       "        vertical-align: middle;\n",
       "    }\n",
       "\n",
       "    .dataframe tbody tr th {\n",
       "        vertical-align: top;\n",
       "    }\n",
       "\n",
       "    .dataframe thead th {\n",
       "        text-align: right;\n",
       "    }\n",
       "</style>\n",
       "<table border=\"1\" class=\"dataframe\">\n",
       "  <thead>\n",
       "    <tr style=\"text-align: right;\">\n",
       "      <th></th>\n",
       "      <th>x</th>\n",
       "      <th>y</th>\n",
       "      <th>z</th>\n",
       "      <th>count</th>\n",
       "      <th>weight</th>\n",
       "      <th>speed</th>\n",
       "    </tr>\n",
       "  </thead>\n",
       "  <tbody>\n",
       "    <tr>\n",
       "      <th>0</th>\n",
       "      <td>-0.012695</td>\n",
       "      <td>0.203125</td>\n",
       "      <td>0.970703</td>\n",
       "      <td>0</td>\n",
       "      <td>0</td>\n",
       "      <td>0</td>\n",
       "    </tr>\n",
       "    <tr>\n",
       "      <th>1</th>\n",
       "      <td>0.000488</td>\n",
       "      <td>0.208008</td>\n",
       "      <td>0.979981</td>\n",
       "      <td>0</td>\n",
       "      <td>0</td>\n",
       "      <td>0</td>\n",
       "    </tr>\n",
       "    <tr>\n",
       "      <th>2</th>\n",
       "      <td>-0.027344</td>\n",
       "      <td>0.196289</td>\n",
       "      <td>0.984375</td>\n",
       "      <td>0</td>\n",
       "      <td>0</td>\n",
       "      <td>0</td>\n",
       "    </tr>\n",
       "    <tr>\n",
       "      <th>3</th>\n",
       "      <td>0.005371</td>\n",
       "      <td>0.217285</td>\n",
       "      <td>0.991699</td>\n",
       "      <td>0</td>\n",
       "      <td>0</td>\n",
       "      <td>0</td>\n",
       "    </tr>\n",
       "    <tr>\n",
       "      <th>4</th>\n",
       "      <td>-0.020020</td>\n",
       "      <td>0.199219</td>\n",
       "      <td>0.980469</td>\n",
       "      <td>0</td>\n",
       "      <td>0</td>\n",
       "      <td>0</td>\n",
       "    </tr>\n",
       "    <tr>\n",
       "      <th>...</th>\n",
       "      <td>...</td>\n",
       "      <td>...</td>\n",
       "      <td>...</td>\n",
       "      <td>...</td>\n",
       "      <td>...</td>\n",
       "      <td>...</td>\n",
       "    </tr>\n",
       "    <tr>\n",
       "      <th>40195</th>\n",
       "      <td>0.000977</td>\n",
       "      <td>0.219238</td>\n",
       "      <td>0.985840</td>\n",
       "      <td>200</td>\n",
       "      <td>0</td>\n",
       "      <td>0</td>\n",
       "    </tr>\n",
       "    <tr>\n",
       "      <th>40196</th>\n",
       "      <td>-0.023438</td>\n",
       "      <td>0.197754</td>\n",
       "      <td>0.978516</td>\n",
       "      <td>200</td>\n",
       "      <td>0</td>\n",
       "      <td>0</td>\n",
       "    </tr>\n",
       "    <tr>\n",
       "      <th>40197</th>\n",
       "      <td>-0.002930</td>\n",
       "      <td>0.214844</td>\n",
       "      <td>0.987793</td>\n",
       "      <td>200</td>\n",
       "      <td>0</td>\n",
       "      <td>0</td>\n",
       "    </tr>\n",
       "    <tr>\n",
       "      <th>40198</th>\n",
       "      <td>-0.020508</td>\n",
       "      <td>0.197754</td>\n",
       "      <td>0.973145</td>\n",
       "      <td>200</td>\n",
       "      <td>0</td>\n",
       "      <td>0</td>\n",
       "    </tr>\n",
       "    <tr>\n",
       "      <th>40199</th>\n",
       "      <td>-0.009277</td>\n",
       "      <td>0.202148</td>\n",
       "      <td>0.981934</td>\n",
       "      <td>200</td>\n",
       "      <td>0</td>\n",
       "      <td>0</td>\n",
       "    </tr>\n",
       "  </tbody>\n",
       "</table>\n",
       "<p>40200 rows × 6 columns</p>\n",
       "</div>"
      ],
      "text/plain": [
       "              x         y         z  count  weight  speed\n",
       "0     -0.012695  0.203125  0.970703      0       0      0\n",
       "1      0.000488  0.208008  0.979981      0       0      0\n",
       "2     -0.027344  0.196289  0.984375      0       0      0\n",
       "3      0.005371  0.217285  0.991699      0       0      0\n",
       "4     -0.020020  0.199219  0.980469      0       0      0\n",
       "...         ...       ...       ...    ...     ...    ...\n",
       "40195  0.000977  0.219238  0.985840    200       0      0\n",
       "40196 -0.023438  0.197754  0.978516    200       0      0\n",
       "40197 -0.002930  0.214844  0.987793    200       0      0\n",
       "40198 -0.020508  0.197754  0.973145    200       0      0\n",
       "40199 -0.009277  0.202148  0.981934    200       0      0\n",
       "\n",
       "[40200 rows x 6 columns]"
      ]
     },
     "execution_count": 5,
     "metadata": {},
     "output_type": "execute_result"
    }
   ],
   "source": [
    "c_file = create_consolidated_file(low_0_data)\n",
    "c_file"
   ]
  },
  {
   "cell_type": "code",
   "execution_count": 6,
   "metadata": {},
   "outputs": [
    {
     "name": "stdout",
     "output_type": "stream",
     "text": [
      "              x         y         z  count  weight  speed\n",
      "80395 -0.031250  0.191895  0.979492    200       0      1\n",
      "80396  0.008789  0.227539  0.980957    200       0      1\n",
      "80397 -0.039063  0.190430  0.967773    200       0      1\n",
      "80398  0.013184  0.216797  0.976563    200       0      1\n",
      "80399 -0.007324  0.229492  0.992676    200       0      1\n",
      "(80400, 6)\n"
     ]
    }
   ],
   "source": [
    "c_file = c_file.append(create_consolidated_file(medium_0_data), ignore_index = True)\n",
    "print(c_file.tail())\n",
    "print(c_file.shape)"
   ]
  },
  {
   "cell_type": "code",
   "execution_count": 7,
   "metadata": {},
   "outputs": [
    {
     "name": "stdout",
     "output_type": "stream",
     "text": [
      "               x         y         z  count  weight  speed\n",
      "120595  0.005371  0.223633  0.977539    200       0      2\n",
      "120596 -0.051270  0.160645  0.976563    200       0      2\n",
      "120597  0.050293  0.244629  0.992188    200       0      2\n",
      "120598 -0.065430  0.155273  0.967773    200       0      2\n",
      "120599  0.043945  0.249512  1.007813    200       0      2\n",
      "(120600, 6)\n"
     ]
    }
   ],
   "source": [
    "c_file = c_file.append(create_consolidated_file(high_0_data), ignore_index = True)\n",
    "print(c_file.tail())\n",
    "print(c_file.shape)"
   ]
  },
  {
   "cell_type": "code",
   "execution_count": 8,
   "metadata": {},
   "outputs": [
    {
     "name": "stdout",
     "output_type": "stream",
     "text": [
      "          x         y         z  count  weight  speed\n",
      "0 -0.012695  0.203125  0.970703      0       0      0\n",
      "1  0.000488  0.208008  0.979981      0       0      0\n",
      "2 -0.027344  0.196289  0.984375      0       0      0\n",
      "3  0.005371  0.217285  0.991699      0       0      0\n",
      "4 -0.020020  0.199219  0.980469      0       0      0\n",
      "(120600, 6)\n"
     ]
    }
   ],
   "source": [
    "## save the file as normal_operations\n",
    "\n",
    "c_file.to_csv(\"fan_normal_op.csv\", index = False)\n",
    "##\n",
    "print(pd.read_csv(\"fan_normal_op.csv\").head())\n",
    "print(pd.read_csv(\"fan_normal_op.csv\").shape)"
   ]
  },
  {
   "cell_type": "markdown",
   "metadata": {},
   "source": [
    "Perform the same for anomaly records."
   ]
  },
  {
   "cell_type": "code",
   "execution_count": 9,
   "metadata": {},
   "outputs": [
    {
     "data": {
      "text/html": [
       "<div>\n",
       "<style scoped>\n",
       "    .dataframe tbody tr th:only-of-type {\n",
       "        vertical-align: middle;\n",
       "    }\n",
       "\n",
       "    .dataframe tbody tr th {\n",
       "        vertical-align: top;\n",
       "    }\n",
       "\n",
       "    .dataframe thead th {\n",
       "        text-align: right;\n",
       "    }\n",
       "</style>\n",
       "<table border=\"1\" class=\"dataframe\">\n",
       "  <thead>\n",
       "    <tr style=\"text-align: right;\">\n",
       "      <th></th>\n",
       "      <th>x</th>\n",
       "      <th>y</th>\n",
       "      <th>z</th>\n",
       "      <th>count</th>\n",
       "      <th>weight</th>\n",
       "      <th>speed</th>\n",
       "    </tr>\n",
       "  </thead>\n",
       "  <tbody>\n",
       "    <tr>\n",
       "      <th>0</th>\n",
       "      <td>-0.019043</td>\n",
       "      <td>0.201660</td>\n",
       "      <td>0.974609</td>\n",
       "      <td>0</td>\n",
       "      <td>1</td>\n",
       "      <td>0</td>\n",
       "    </tr>\n",
       "    <tr>\n",
       "      <th>1</th>\n",
       "      <td>-0.019043</td>\n",
       "      <td>0.189453</td>\n",
       "      <td>0.975586</td>\n",
       "      <td>0</td>\n",
       "      <td>1</td>\n",
       "      <td>0</td>\n",
       "    </tr>\n",
       "    <tr>\n",
       "      <th>2</th>\n",
       "      <td>-0.018555</td>\n",
       "      <td>0.192871</td>\n",
       "      <td>0.982422</td>\n",
       "      <td>0</td>\n",
       "      <td>1</td>\n",
       "      <td>0</td>\n",
       "    </tr>\n",
       "    <tr>\n",
       "      <th>3</th>\n",
       "      <td>-0.020508</td>\n",
       "      <td>0.192383</td>\n",
       "      <td>0.979004</td>\n",
       "      <td>0</td>\n",
       "      <td>1</td>\n",
       "      <td>0</td>\n",
       "    </tr>\n",
       "    <tr>\n",
       "      <th>4</th>\n",
       "      <td>-0.020996</td>\n",
       "      <td>0.193359</td>\n",
       "      <td>0.976563</td>\n",
       "      <td>0</td>\n",
       "      <td>1</td>\n",
       "      <td>0</td>\n",
       "    </tr>\n",
       "    <tr>\n",
       "      <th>...</th>\n",
       "      <td>...</td>\n",
       "      <td>...</td>\n",
       "      <td>...</td>\n",
       "      <td>...</td>\n",
       "      <td>...</td>\n",
       "      <td>...</td>\n",
       "    </tr>\n",
       "    <tr>\n",
       "      <th>40195</th>\n",
       "      <td>-0.015137</td>\n",
       "      <td>0.203613</td>\n",
       "      <td>0.978027</td>\n",
       "      <td>200</td>\n",
       "      <td>1</td>\n",
       "      <td>0</td>\n",
       "    </tr>\n",
       "    <tr>\n",
       "      <th>40196</th>\n",
       "      <td>-0.027344</td>\n",
       "      <td>0.189453</td>\n",
       "      <td>0.978516</td>\n",
       "      <td>200</td>\n",
       "      <td>1</td>\n",
       "      <td>0</td>\n",
       "    </tr>\n",
       "    <tr>\n",
       "      <th>40197</th>\n",
       "      <td>-0.008301</td>\n",
       "      <td>0.189941</td>\n",
       "      <td>0.979492</td>\n",
       "      <td>200</td>\n",
       "      <td>1</td>\n",
       "      <td>0</td>\n",
       "    </tr>\n",
       "    <tr>\n",
       "      <th>40198</th>\n",
       "      <td>-0.011230</td>\n",
       "      <td>0.196777</td>\n",
       "      <td>0.996094</td>\n",
       "      <td>200</td>\n",
       "      <td>1</td>\n",
       "      <td>0</td>\n",
       "    </tr>\n",
       "    <tr>\n",
       "      <th>40199</th>\n",
       "      <td>-0.026855</td>\n",
       "      <td>0.187012</td>\n",
       "      <td>0.972168</td>\n",
       "      <td>200</td>\n",
       "      <td>1</td>\n",
       "      <td>0</td>\n",
       "    </tr>\n",
       "  </tbody>\n",
       "</table>\n",
       "<p>40200 rows × 6 columns</p>\n",
       "</div>"
      ],
      "text/plain": [
       "              x         y         z  count  weight  speed\n",
       "0     -0.019043  0.201660  0.974609      0       1      0\n",
       "1     -0.019043  0.189453  0.975586      0       1      0\n",
       "2     -0.018555  0.192871  0.982422      0       1      0\n",
       "3     -0.020508  0.192383  0.979004      0       1      0\n",
       "4     -0.020996  0.193359  0.976563      0       1      0\n",
       "...         ...       ...       ...    ...     ...    ...\n",
       "40195 -0.015137  0.203613  0.978027    200       1      0\n",
       "40196 -0.027344  0.189453  0.978516    200       1      0\n",
       "40197 -0.008301  0.189941  0.979492    200       1      0\n",
       "40198 -0.011230  0.196777  0.996094    200       1      0\n",
       "40199 -0.026855  0.187012  0.972168    200       1      0\n",
       "\n",
       "[40200 rows x 6 columns]"
      ]
     },
     "execution_count": 9,
     "metadata": {},
     "output_type": "execute_result"
    }
   ],
   "source": [
    "c1_file = create_consolidated_file(low_1_data)\n",
    "c1_file"
   ]
  },
  {
   "cell_type": "code",
   "execution_count": 10,
   "metadata": {},
   "outputs": [
    {
     "name": "stdout",
     "output_type": "stream",
     "text": [
      "              x         y         z  count  weight  speed\n",
      "80395 -0.034180  0.187012  0.964844    200       1      1\n",
      "80396  0.006348  0.214844  0.976563    200       1      1\n",
      "80397 -0.035645  0.194336  0.967773    200       1      1\n",
      "80398 -0.026367  0.192383  0.976074    200       1      1\n",
      "80399 -0.007813  0.209961  0.997559    200       1      1\n",
      "(80400, 6)\n"
     ]
    }
   ],
   "source": [
    "c1_file = c1_file.append(create_consolidated_file(medium_1_data), ignore_index = True)\n",
    "print(c1_file.tail())\n",
    "print(c1_file.shape)"
   ]
  },
  {
   "cell_type": "code",
   "execution_count": 11,
   "metadata": {},
   "outputs": [
    {
     "name": "stdout",
     "output_type": "stream",
     "text": [
      "               x         y         z  count  weight  speed\n",
      "120595  0.005859  0.254883  0.971680    200       1      2\n",
      "120596 -0.081055  0.190430  0.952637    200       1      2\n",
      "120597 -0.005859  0.274902  0.989746    200       1      2\n",
      "120598 -0.057129  0.210449  0.964844    200       1      2\n",
      "120599 -0.044922  0.248535  0.995606    200       1      2\n",
      "(120600, 6)\n"
     ]
    }
   ],
   "source": [
    "c1_file = c1_file.append(create_consolidated_file(high_1_data), ignore_index = True)\n",
    "print(c1_file.tail())\n",
    "print(c1_file.shape)"
   ]
  },
  {
   "cell_type": "code",
   "execution_count": 12,
   "metadata": {},
   "outputs": [
    {
     "name": "stdout",
     "output_type": "stream",
     "text": [
      "          x         y         z  count  weight  speed\n",
      "0 -0.019043  0.201660  0.974609      0       1      0\n",
      "1 -0.019043  0.189453  0.975586      0       1      0\n",
      "2 -0.018555  0.192871  0.982422      0       1      0\n",
      "3 -0.020508  0.192383  0.979004      0       1      0\n",
      "4 -0.020996  0.193359  0.976563      0       1      0\n",
      "(120600, 6)\n"
     ]
    }
   ],
   "source": [
    "## save the file as anomaly_operations\n",
    "\n",
    "c1_file.to_csv(\"fan_anomaly_op.csv\", index = False)\n",
    "##\n",
    "print(pd.read_csv(\"fan_anomaly_op.csv\").head())\n",
    "print(pd.read_csv(\"fan_anomaly_op.csv\").shape)"
   ]
  },
  {
   "cell_type": "code",
   "execution_count": null,
   "metadata": {},
   "outputs": [],
   "source": []
  }
 ],
 "metadata": {
  "kernelspec": {
   "display_name": "Python 3",
   "language": "python",
   "name": "python3"
  },
  "language_info": {
   "codemirror_mode": {
    "name": "ipython",
    "version": 3
   },
   "file_extension": ".py",
   "mimetype": "text/x-python",
   "name": "python",
   "nbconvert_exporter": "python",
   "pygments_lexer": "ipython3",
   "version": "3.8.3"
  }
 },
 "nbformat": 4,
 "nbformat_minor": 4
}
