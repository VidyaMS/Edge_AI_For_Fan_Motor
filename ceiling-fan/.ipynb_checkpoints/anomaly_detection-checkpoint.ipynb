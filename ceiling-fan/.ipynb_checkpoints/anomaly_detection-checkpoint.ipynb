{
 "cells": [
  {
   "cell_type": "markdown",
   "metadata": {},
   "source": [
    "Based on x, y and z values from the accelerometer , can we predict which values stand for an anomaly in the fan structure ??   "
   ]
  },
  {
   "cell_type": "code",
   "execution_count": 1,
   "metadata": {},
   "outputs": [],
   "source": [
    "import pandas as pd\n",
    "import numpy as np\n",
    "import matplotlib.pyplot as plt\n",
    "%matplotlib inline"
   ]
  },
  {
   "cell_type": "code",
   "execution_count": 11,
   "metadata": {},
   "outputs": [],
   "source": [
    "from sklearn.linear_model import LogisticRegression\n",
    "from sklearn.tree import DecisionTreeClassifier\n",
    "from sklearn.ensemble import RandomForestClassifier, GradientBoostingClassifier , IsolationForest"
   ]
  },
  {
   "cell_type": "code",
   "execution_count": 3,
   "metadata": {},
   "outputs": [],
   "source": [
    "from sklearn.metrics import  roc_auc_score, accuracy_score, classification_report, confusion_matrix, auc , roc_curve , precision_recall_curve, average_precision_score\n",
    "from sklearn.model_selection import cross_val_predict, cross_val_score , train_test_split, cross_validate, StratifiedKFold, GridSearchCV, KFold\n"
   ]
  },
  {
   "cell_type": "code",
   "execution_count": null,
   "metadata": {},
   "outputs": [],
   "source": []
  },
  {
   "cell_type": "code",
   "execution_count": 4,
   "metadata": {},
   "outputs": [],
   "source": [
    "data = pd.read_csv(\"mean_readings.csv\")"
   ]
  },
  {
   "cell_type": "code",
   "execution_count": 5,
   "metadata": {},
   "outputs": [
    {
     "data": {
      "text/html": [
       "<div>\n",
       "<style scoped>\n",
       "    .dataframe tbody tr th:only-of-type {\n",
       "        vertical-align: middle;\n",
       "    }\n",
       "\n",
       "    .dataframe tbody tr th {\n",
       "        vertical-align: top;\n",
       "    }\n",
       "\n",
       "    .dataframe thead th {\n",
       "        text-align: right;\n",
       "    }\n",
       "</style>\n",
       "<table border=\"1\" class=\"dataframe\">\n",
       "  <thead>\n",
       "    <tr style=\"text-align: right;\">\n",
       "      <th></th>\n",
       "      <th>x</th>\n",
       "      <th>y</th>\n",
       "      <th>z</th>\n",
       "      <th>weight</th>\n",
       "      <th>speed</th>\n",
       "    </tr>\n",
       "  </thead>\n",
       "  <tbody>\n",
       "    <tr>\n",
       "      <th>0</th>\n",
       "      <td>-0.012051</td>\n",
       "      <td>0.204719</td>\n",
       "      <td>0.978792</td>\n",
       "      <td>0</td>\n",
       "      <td>0</td>\n",
       "    </tr>\n",
       "    <tr>\n",
       "      <th>1</th>\n",
       "      <td>-0.011885</td>\n",
       "      <td>0.204990</td>\n",
       "      <td>0.979236</td>\n",
       "      <td>0</td>\n",
       "      <td>0</td>\n",
       "    </tr>\n",
       "    <tr>\n",
       "      <th>2</th>\n",
       "      <td>-0.011963</td>\n",
       "      <td>0.204851</td>\n",
       "      <td>0.979075</td>\n",
       "      <td>0</td>\n",
       "      <td>0</td>\n",
       "    </tr>\n",
       "    <tr>\n",
       "      <th>3</th>\n",
       "      <td>-0.012061</td>\n",
       "      <td>0.204712</td>\n",
       "      <td>0.979546</td>\n",
       "      <td>0</td>\n",
       "      <td>0</td>\n",
       "    </tr>\n",
       "    <tr>\n",
       "      <th>4</th>\n",
       "      <td>-0.011763</td>\n",
       "      <td>0.204802</td>\n",
       "      <td>0.979270</td>\n",
       "      <td>0</td>\n",
       "      <td>0</td>\n",
       "    </tr>\n",
       "  </tbody>\n",
       "</table>\n",
       "</div>"
      ],
      "text/plain": [
       "          x         y         z  weight  speed\n",
       "0 -0.012051  0.204719  0.978792       0      0\n",
       "1 -0.011885  0.204990  0.979236       0      0\n",
       "2 -0.011963  0.204851  0.979075       0      0\n",
       "3 -0.012061  0.204712  0.979546       0      0\n",
       "4 -0.011763  0.204802  0.979270       0      0"
      ]
     },
     "execution_count": 5,
     "metadata": {},
     "output_type": "execute_result"
    }
   ],
   "source": [
    "data.head()"
   ]
  },
  {
   "cell_type": "code",
   "execution_count": 10,
   "metadata": {},
   "outputs": [
    {
     "data": {
      "text/plain": [
       "<matplotlib.legend.Legend at 0x12f0dcc40>"
      ]
     },
     "execution_count": 10,
     "metadata": {},
     "output_type": "execute_result"
    },
    {
     "data": {
      "image/png": "[encoded data removed]",
      "text/plain": [
       "<Figure size 1080x360 with 3 Axes>"
      ]
     },
     "metadata": {
      "needs_background": "light"
     },
     "output_type": "display_data"
    }
   ],
   "source": [
    "## EDA of mean data \n",
    "plt.figure(figsize = (15,5))\n",
    "plt.subplot(1,3,1)\n",
    "plt.hist(data[data['weight'] == 0]['x'], label = 'no anomaly')\n",
    "plt.hist(data[data['weight'] == 1]['x'] , label = 'with anomaly')\n",
    "plt.xlabel('x')\n",
    "plt.legend()\n",
    "plt.subplot(1,3,2)\n",
    "plt.hist(data[data['weight'] == 0]['y'], label = 'no anomaly')\n",
    "plt.hist(data[data['weight'] == 1]['y'], label = 'with anomaly')\n",
    "plt.xlabel('y')\n",
    "plt.legend()\n",
    "plt.subplot(1,3,3)\n",
    "plt.hist(data[data['weight'] == 0]['z'], label = 'no anomaly')\n",
    "plt.hist(data[data['weight'] == 1]['z'], label = 'with anomaly')\n",
    "plt.xlabel('z')\n",
    "plt.legend()\n"
   ]
  },
  {
   "cell_type": "markdown",
   "metadata": {},
   "source": [
    "The mean values of the 200 measurements of the accelerometer show a clear shift in values with an anomaly as shown above.   "
   ]
  },
  {
   "cell_type": "code",
   "execution_count": 71,
   "metadata": {},
   "outputs": [
    {
     "name": "stdout",
     "output_type": "stream",
     "text": [
      "\n",
      " X_train : (2804, 3)\n",
      "\n",
      " X_test : (702, 3)\n",
      "\n",
      " y_train : (2804,)\n",
      "\n",
      " y_test : (702,)\n",
      "Anomaly records identified by Isolation Forest:\n",
      "In train set:\n",
      "\n",
      " 1    1682\n",
      "-1    1122\n",
      "dtype: int64\n",
      "In test set:\n",
      "\n",
      " 1    421\n",
      "-1    281\n",
      "dtype: int64\n"
     ]
    }
   ],
   "source": [
    "## isloation forest for detecting outliers/anomaly records .\n",
    "\n",
    "X_train, X_validate, y_train, y_validate  = train_test_split(data[['x','y','z']], data['weight'] , random_state = 1 , test_size = 0.2)\n",
    "\n",
    "print(\"\\n X_train : {}\".format(X_train.shape))\n",
    "print(\"\\n X_test : {}\".format(X_validate.shape))\n",
    "print(\"\\n y_train : {}\".format(y_train.shape))\n",
    "print(\"\\n y_test : {}\".format(y_validate.shape))\n",
    "##\n",
    "iso = IsolationForest(random_state = 12, contamination = 0.4)\n",
    "ot_train = iso.fit_predict(X_train)\n",
    "ot_validate = iso.fit_predict(X_validate)\n",
    "##\n",
    "print(\"Anomaly records identified by Isolation Forest:\")\n",
    "print(\"In train set:\\n\")\n",
    "print(pd.Series(ot_train).value_counts())\n",
    "print(\"In test set:\\n\")\n",
    "print(pd.Series(ot_validate).value_counts())"
   ]
  },
  {
   "cell_type": "code",
   "execution_count": 72,
   "metadata": {},
   "outputs": [
    {
     "data": {
      "text/html": [
       "<div>\n",
       "<style scoped>\n",
       "    .dataframe tbody tr th:only-of-type {\n",
       "        vertical-align: middle;\n",
       "    }\n",
       "\n",
       "    .dataframe tbody tr th {\n",
       "        vertical-align: top;\n",
       "    }\n",
       "\n",
       "    .dataframe thead th {\n",
       "        text-align: right;\n",
       "    }\n",
       "</style>\n",
       "<table border=\"1\" class=\"dataframe\">\n",
       "  <thead>\n",
       "    <tr style=\"text-align: right;\">\n",
       "      <th></th>\n",
       "      <th>x</th>\n",
       "      <th>y</th>\n",
       "      <th>z</th>\n",
       "    </tr>\n",
       "  </thead>\n",
       "  <tbody>\n",
       "    <tr>\n",
       "      <th>3251</th>\n",
       "      <td>-0.040901</td>\n",
       "      <td>0.231829</td>\n",
       "      <td>0.971296</td>\n",
       "    </tr>\n",
       "    <tr>\n",
       "      <th>3301</th>\n",
       "      <td>-0.040000</td>\n",
       "      <td>0.232022</td>\n",
       "      <td>0.971199</td>\n",
       "    </tr>\n",
       "    <tr>\n",
       "      <th>3494</th>\n",
       "      <td>-0.040708</td>\n",
       "      <td>0.231394</td>\n",
       "      <td>0.970027</td>\n",
       "    </tr>\n",
       "    <tr>\n",
       "      <th>1960</th>\n",
       "      <td>-0.019253</td>\n",
       "      <td>0.197236</td>\n",
       "      <td>0.979983</td>\n",
       "    </tr>\n",
       "    <tr>\n",
       "      <th>1787</th>\n",
       "      <td>-0.018916</td>\n",
       "      <td>0.198049</td>\n",
       "      <td>0.978547</td>\n",
       "    </tr>\n",
       "    <tr>\n",
       "      <th>...</th>\n",
       "      <td>...</td>\n",
       "      <td>...</td>\n",
       "      <td>...</td>\n",
       "    </tr>\n",
       "    <tr>\n",
       "      <th>3353</th>\n",
       "      <td>-0.040708</td>\n",
       "      <td>0.232124</td>\n",
       "      <td>0.970601</td>\n",
       "    </tr>\n",
       "    <tr>\n",
       "      <th>3462</th>\n",
       "      <td>-0.041121</td>\n",
       "      <td>0.231890</td>\n",
       "      <td>0.971296</td>\n",
       "    </tr>\n",
       "    <tr>\n",
       "      <th>2556</th>\n",
       "      <td>-0.009099</td>\n",
       "      <td>0.207905</td>\n",
       "      <td>0.977332</td>\n",
       "    </tr>\n",
       "    <tr>\n",
       "      <th>960</th>\n",
       "      <td>-0.019580</td>\n",
       "      <td>0.192625</td>\n",
       "      <td>0.977976</td>\n",
       "    </tr>\n",
       "    <tr>\n",
       "      <th>905</th>\n",
       "      <td>-0.019590</td>\n",
       "      <td>0.192461</td>\n",
       "      <td>0.981775</td>\n",
       "    </tr>\n",
       "  </tbody>\n",
       "</table>\n",
       "<p>889 rows × 3 columns</p>\n",
       "</div>"
      ],
      "text/plain": [
       "             x         y         z\n",
       "3251 -0.040901  0.231829  0.971296\n",
       "3301 -0.040000  0.232022  0.971199\n",
       "3494 -0.040708  0.231394  0.970027\n",
       "1960 -0.019253  0.197236  0.979983\n",
       "1787 -0.018916  0.198049  0.978547\n",
       "...        ...       ...       ...\n",
       "3353 -0.040708  0.232124  0.970601\n",
       "3462 -0.041121  0.231890  0.971296\n",
       "2556 -0.009099  0.207905  0.977332\n",
       "960  -0.019580  0.192625  0.977976\n",
       "905  -0.019590  0.192461  0.981775\n",
       "\n",
       "[889 rows x 3 columns]"
      ]
     },
     "execution_count": 72,
     "metadata": {},
     "output_type": "execute_result"
    }
   ],
   "source": [
    "X_train[ot ==-1]"
   ]
  },
  {
   "cell_type": "code",
   "execution_count": 73,
   "metadata": {},
   "outputs": [
    {
     "data": {
      "text/html": [
       "<div>\n",
       "<style scoped>\n",
       "    .dataframe tbody tr th:only-of-type {\n",
       "        vertical-align: middle;\n",
       "    }\n",
       "\n",
       "    .dataframe tbody tr th {\n",
       "        vertical-align: top;\n",
       "    }\n",
       "\n",
       "    .dataframe thead th {\n",
       "        text-align: right;\n",
       "    }\n",
       "</style>\n",
       "<table border=\"1\" class=\"dataframe\">\n",
       "  <thead>\n",
       "    <tr style=\"text-align: right;\">\n",
       "      <th></th>\n",
       "      <th>x</th>\n",
       "      <th>y</th>\n",
       "      <th>z</th>\n",
       "      <th>weight</th>\n",
       "      <th>speed</th>\n",
       "    </tr>\n",
       "  </thead>\n",
       "  <tbody>\n",
       "    <tr>\n",
       "      <th>3251</th>\n",
       "      <td>-0.040901</td>\n",
       "      <td>0.231829</td>\n",
       "      <td>0.971296</td>\n",
       "      <td>1</td>\n",
       "      <td>2</td>\n",
       "    </tr>\n",
       "    <tr>\n",
       "      <th>3301</th>\n",
       "      <td>-0.040000</td>\n",
       "      <td>0.232022</td>\n",
       "      <td>0.971199</td>\n",
       "      <td>1</td>\n",
       "      <td>2</td>\n",
       "    </tr>\n",
       "    <tr>\n",
       "      <th>3494</th>\n",
       "      <td>-0.040708</td>\n",
       "      <td>0.231394</td>\n",
       "      <td>0.970027</td>\n",
       "      <td>1</td>\n",
       "      <td>2</td>\n",
       "    </tr>\n",
       "    <tr>\n",
       "      <th>1960</th>\n",
       "      <td>-0.019253</td>\n",
       "      <td>0.197236</td>\n",
       "      <td>0.979983</td>\n",
       "      <td>1</td>\n",
       "      <td>1</td>\n",
       "    </tr>\n",
       "    <tr>\n",
       "      <th>1787</th>\n",
       "      <td>-0.018916</td>\n",
       "      <td>0.198049</td>\n",
       "      <td>0.978547</td>\n",
       "      <td>1</td>\n",
       "      <td>1</td>\n",
       "    </tr>\n",
       "    <tr>\n",
       "      <th>...</th>\n",
       "      <td>...</td>\n",
       "      <td>...</td>\n",
       "      <td>...</td>\n",
       "      <td>...</td>\n",
       "      <td>...</td>\n",
       "    </tr>\n",
       "    <tr>\n",
       "      <th>3353</th>\n",
       "      <td>-0.040708</td>\n",
       "      <td>0.232124</td>\n",
       "      <td>0.970601</td>\n",
       "      <td>1</td>\n",
       "      <td>2</td>\n",
       "    </tr>\n",
       "    <tr>\n",
       "      <th>3462</th>\n",
       "      <td>-0.041121</td>\n",
       "      <td>0.231890</td>\n",
       "      <td>0.971296</td>\n",
       "      <td>1</td>\n",
       "      <td>2</td>\n",
       "    </tr>\n",
       "    <tr>\n",
       "      <th>2556</th>\n",
       "      <td>-0.009099</td>\n",
       "      <td>0.207905</td>\n",
       "      <td>0.977332</td>\n",
       "      <td>0</td>\n",
       "      <td>2</td>\n",
       "    </tr>\n",
       "    <tr>\n",
       "      <th>960</th>\n",
       "      <td>-0.019580</td>\n",
       "      <td>0.192625</td>\n",
       "      <td>0.977976</td>\n",
       "      <td>1</td>\n",
       "      <td>0</td>\n",
       "    </tr>\n",
       "    <tr>\n",
       "      <th>905</th>\n",
       "      <td>-0.019590</td>\n",
       "      <td>0.192461</td>\n",
       "      <td>0.981775</td>\n",
       "      <td>1</td>\n",
       "      <td>0</td>\n",
       "    </tr>\n",
       "  </tbody>\n",
       "</table>\n",
       "<p>889 rows × 5 columns</p>\n",
       "</div>"
      ],
      "text/plain": [
       "             x         y         z  weight  speed\n",
       "3251 -0.040901  0.231829  0.971296       1      2\n",
       "3301 -0.040000  0.232022  0.971199       1      2\n",
       "3494 -0.040708  0.231394  0.970027       1      2\n",
       "1960 -0.019253  0.197236  0.979983       1      1\n",
       "1787 -0.018916  0.198049  0.978547       1      1\n",
       "...        ...       ...       ...     ...    ...\n",
       "3353 -0.040708  0.232124  0.970601       1      2\n",
       "3462 -0.041121  0.231890  0.971296       1      2\n",
       "2556 -0.009099  0.207905  0.977332       0      2\n",
       "960  -0.019580  0.192625  0.977976       1      0\n",
       "905  -0.019590  0.192461  0.981775       1      0\n",
       "\n",
       "[889 rows x 5 columns]"
      ]
     },
     "execution_count": 73,
     "metadata": {},
     "output_type": "execute_result"
    }
   ],
   "source": [
    "data.iloc[X_train[ot == -1].index]"
   ]
  },
  {
   "cell_type": "code",
   "execution_count": 74,
   "metadata": {},
   "outputs": [
    {
     "data": {
      "text/plain": [
       "0    1412\n",
       "1    1392\n",
       "Name: weight, dtype: int64"
      ]
     },
     "execution_count": 74,
     "metadata": {},
     "output_type": "execute_result"
    }
   ],
   "source": [
    "data.iloc[X_train.index]['weight'].value_counts()"
   ]
  },
  {
   "cell_type": "code",
   "execution_count": 75,
   "metadata": {},
   "outputs": [
    {
     "data": {
      "text/plain": [
       "1    354\n",
       "0    348\n",
       "Name: weight, dtype: int64"
      ]
     },
     "execution_count": 75,
     "metadata": {},
     "output_type": "execute_result"
    }
   ],
   "source": [
    "data.iloc[X_validate.index]['weight'].value_counts()"
   ]
  },
  {
   "cell_type": "code",
   "execution_count": 77,
   "metadata": {},
   "outputs": [
    {
     "data": {
      "text/plain": [
       "0.8060344827586207"
      ]
     },
     "execution_count": 77,
     "metadata": {},
     "output_type": "execute_result"
    }
   ],
   "source": [
    "1122/1392"
   ]
  },
  {
   "cell_type": "markdown",
   "metadata": {},
   "source": [
    "Out of the 1392 records containing anomaly in the train set , IsolationForest is able to identify 1122 records i.e 80%records of  the train set.  "
   ]
  },
  {
   "cell_type": "code",
   "execution_count": 78,
   "metadata": {},
   "outputs": [
    {
     "data": {
      "text/plain": [
       "0.7937853107344632"
      ]
     },
     "execution_count": 78,
     "metadata": {},
     "output_type": "execute_result"
    }
   ],
   "source": [
    "281/354"
   ]
  },
  {
   "cell_type": "code",
   "execution_count": 79,
   "metadata": {},
   "outputs": [
    {
     "data": {
      "text/plain": [
       "0    73\n",
       "1    54\n",
       "Name: speed, dtype: int64"
      ]
     },
     "execution_count": 79,
     "metadata": {},
     "output_type": "execute_result"
    }
   ],
   "source": [
    "## which anomaly records are misclassified in the test data set ?\n",
    "temp = data.iloc[X_validate[ot_validate == 1].index]\n",
    "temp[temp['weight']==1]['speed'].value_counts()"
   ]
  },
  {
   "cell_type": "code",
   "execution_count": 80,
   "metadata": {},
   "outputs": [
    {
     "data": {
      "text/plain": [
       "0    305\n",
       "1    219\n",
       "Name: speed, dtype: int64"
      ]
     },
     "execution_count": 80,
     "metadata": {},
     "output_type": "execute_result"
    }
   ],
   "source": [
    "## which anomaly records are misclassified in the train data set ?\n",
    "temp = data.iloc[X_train[ot_train == 1].index]\n",
    "temp[temp['weight']==1]['speed'].value_counts()"
   ]
  },
  {
   "cell_type": "code",
   "execution_count": 58,
   "metadata": {},
   "outputs": [
    {
     "name": "stdout",
     "output_type": "stream",
     "text": [
      "\n",
      " X_train : (2804, 3)\n",
      "\n",
      " X_test : (702, 3)\n",
      "\n",
      " y_train : (2804,)\n",
      "\n",
      " y_test : (702,)\n",
      "Anomaly records identified by Elliptical Envelope:\n",
      "In train set:\n",
      "\n",
      " 1    1682\n",
      "-1    1122\n",
      "dtype: int64\n",
      "In test set:\n",
      "\n",
      " 1    421\n",
      "-1    281\n",
      "dtype: int64\n"
     ]
    }
   ],
   "source": [
    "## try minimum covriance determinant \n",
    "from sklearn.covariance import EllipticEnvelope\n",
    "\n",
    "X_train, X_validate, y_train, y_validate  = train_test_split(data[['x','y','z']], data['weight'] , random_state = 1 , test_size = 0.2)\n",
    "\n",
    "print(\"\\n X_train : {}\".format(X_train.shape))\n",
    "print(\"\\n X_test : {}\".format(X_validate.shape))\n",
    "print(\"\\n y_train : {}\".format(y_train.shape))\n",
    "print(\"\\n y_test : {}\".format(y_validate.shape))\n",
    "##\n",
    "\n",
    "ee = EllipticEnvelope(contamination=0.4, random_state = 12)\n",
    "yhat_train = ee.fit_predict(X_train)\n",
    "yhat_validate = ee.fit_predict(X_validate)\n",
    "##\n",
    "print(\"Anomaly records identified by Elliptical Envelope:\")\n",
    "print(\"In train set:\\n\")\n",
    "print(pd.Series(yhat_train).value_counts())\n",
    "print(\"In test set:\\n\")\n",
    "print(pd.Series(yhat_validate).value_counts())"
   ]
  },
  {
   "cell_type": "code",
   "execution_count": 59,
   "metadata": {},
   "outputs": [
    {
     "data": {
      "text/plain": [
       "(1122,)"
      ]
     },
     "execution_count": 59,
     "metadata": {},
     "output_type": "execute_result"
    }
   ],
   "source": [
    "yhat_train[yhat_train == -1].shape"
   ]
  },
  {
   "cell_type": "code",
   "execution_count": 63,
   "metadata": {},
   "outputs": [
    {
     "data": {
      "text/plain": [
       "0    1412\n",
       "1    1392\n",
       "Name: weight, dtype: int64"
      ]
     },
     "execution_count": 63,
     "metadata": {},
     "output_type": "execute_result"
    }
   ],
   "source": [
    "y_train.value_counts()"
   ]
  },
  {
   "cell_type": "code",
   "execution_count": 64,
   "metadata": {},
   "outputs": [
    {
     "name": "stdout",
     "output_type": "stream",
     "text": [
      "% of anomaly rcds indentified : \n",
      "\n",
      "0.8060344827586207\n"
     ]
    }
   ],
   "source": [
    "print(\"% of anomaly rcds indentified : \\n\")\n",
    "print((yhat_train[yhat_train == -1].shape[0])/1392)"
   ]
  },
  {
   "cell_type": "code",
   "execution_count": 66,
   "metadata": {},
   "outputs": [
    {
     "data": {
      "text/plain": [
       "1    354\n",
       "0    348\n",
       "Name: weight, dtype: int64"
      ]
     },
     "execution_count": 66,
     "metadata": {},
     "output_type": "execute_result"
    }
   ],
   "source": [
    "y_validate.value_counts()"
   ]
  },
  {
   "cell_type": "code",
   "execution_count": 67,
   "metadata": {},
   "outputs": [
    {
     "name": "stdout",
     "output_type": "stream",
     "text": [
      "% of anomaly rcds indentified in test : \n",
      "\n",
      "0.8074712643678161\n"
     ]
    }
   ],
   "source": [
    "print(\"% of anomaly rcds indentified in test : \\n\")\n",
    "print((yhat_validate[yhat_validate == -1].shape[0])/348)"
   ]
  },
  {
   "cell_type": "markdown",
   "metadata": {},
   "source": [
    "Both the methods, IsolationForest and Elliptical Envelope are able to identify 80% of the anomaly records.  "
   ]
  },
  {
   "cell_type": "code",
   "execution_count": null,
   "metadata": {},
   "outputs": [],
   "source": [
    "## to prove statistically that the measurements are apart."
   ]
  },
  {
   "cell_type": "code",
   "execution_count": 6,
   "metadata": {},
   "outputs": [],
   "source": [
    "## Hot encode the categorical variables .\n",
    "\n",
    "def hot_encode(df, cols):\n",
    "    ## Change the categorical columns to dummy variables . \n",
    "    \n",
    "    for c in cols:\n",
    "        col_dummies = pd.get_dummies(df[c], prefix_sep = \"_\", prefix = c)\n",
    "        df = pd.concat([df,col_dummies] , axis = 1)\n",
    "        df.drop(c , inplace = True , axis = 1)\n",
    "    return df"
   ]
  },
  {
   "cell_type": "code",
   "execution_count": 8,
   "metadata": {},
   "outputs": [],
   "source": [
    "def perform_classification(model , X_train, X_validate,y_train,y_validate, classifier):\n",
    "    \n",
    "    model = model.fit(X_train,y_train)\n",
    "    \n",
    "    print(\"\\n Train Score : \" + str(model.score(X_train,y_train)))\n",
    "    train_pred = model.predict(X_train)\n",
    "\n",
    "    accuracy = np.mean(y_train == train_pred)\n",
    "    print(\"Train Accuracy using predicted labels :\" + str(accuracy))\n",
    "\n",
    "\n",
    "    test_pred = model.predict(X_validate)\n",
    "    \n",
    "\n",
    "    print(\"Test set score using predicted labels: {:.2f}\".format(np.mean(test_pred == y_validate)))\n",
    "\n",
    "    print(\"Calculated Test set score: {:.2f}\".format(model.score(X_validate,y_validate)))\n",
    "\n",
    "    print(\"Accuracy score :{:.3f}\".format(accuracy_score(y_validate,test_pred)))\n",
    "\n",
    "    print(\"Confusion matrix :\\n{}\".format(confusion_matrix(y_validate,test_pred)))\n",
    "    \n",
    "    if classifier == 'dt':\n",
    "            print(\"\\n Max depth:{} \".format(model.tree_.max_depth))\n",
    "        \n",
    "    \n",
    "    ## Calculate the AUC and plot the ROC curve.\n",
    "    test_prob = model.predict_proba(X_validate)\n",
    "    preds = test_prob[:,1]\n",
    "    fpr, tpr, thresholds = roc_curve(y_validate, preds)\n",
    "    roc_auc = auc(fpr, tpr)\n",
    "    \n",
    "    ## Plot ROC curve.\n",
    "    plt.title('Receiver Operating Characteristic')\n",
    "    plt.plot(fpr, tpr, 'b', label = 'AUC = %0.2f' % roc_auc)\n",
    "    plt.legend(loc = 'lower right')\n",
    "    plt.plot([0, 1], [0, 1],'r--')\n",
    "    plt.xlim([0, 1])\n",
    "    plt.ylim([0, 1])\n",
    "    plt.ylabel('True Positive Rate')\n",
    "    plt.xlabel('False Positive Rate')\n",
    "    plt.show()\n",
    "    \n",
    "    ##Calculate AUC and plot precision recall curve.\n",
    "    precision, recall, thresholds = precision_recall_curve(y_validate, preds)\n",
    "    pr_auc = auc(recall, precision)\n",
    "    \n",
    "    ## Plot PR curve.\n",
    "    plt.title('PR Curve')\n",
    "    plt.plot( recall, precision, 'b', label = 'AUC = %0.2f' % pr_auc)\n",
    "    plt.legend(loc = 'lower right')\n",
    "    plt.plot([1, 0], [0, 1],'r--')\n",
    "    plt.xlim([0, 1])\n",
    "    plt.ylim([0, 1])\n",
    "    plt.ylabel('Precision')\n",
    "    plt.xlabel('Recall')\n",
    "    plt.show()\n",
    "    \n",
    "    ## Plot Variable importance for decision tree , random forest\n",
    "    if (classifier == 'dt') | (classifier == 'rf') | (classifier == 'gbm'):\n",
    "        cols = X_train.columns.tolist()\n",
    "        plt.figure(figsize = (15,5))\n",
    "        plt.bar(cols, model.feature_importances_)\n",
    "        plt.xticks(rotation = 90)\n"
   ]
  },
  {
   "cell_type": "code",
   "execution_count": 9,
   "metadata": {},
   "outputs": [
    {
     "name": "stdout",
     "output_type": "stream",
     "text": [
      "\n",
      " X_train : (2804, 3)\n",
      "\n",
      " X_test : (702, 3)\n",
      "\n",
      " y_train : (2804,)\n",
      "\n",
      " y_test : (702,)\n",
      "\n",
      " Train Score : 0.796718972895863\n",
      "Train Accuracy using predicted labels :0.796718972895863\n",
      "Test set score using predicted labels: 0.79\n",
      "Calculated Test set score: 0.79\n",
      "Accuracy score :0.792\n",
      "Confusion matrix :\n",
      "[[348   0]\n",
      " [146 208]]\n"
     ]
    },
    {
     "data": {
      "image/png": "[encoded data removed]",
      "text/plain": [
       "<Figure size 432x288 with 1 Axes>"
      ]
     },
     "metadata": {
      "needs_background": "light"
     },
     "output_type": "display_data"
    },
    {
     "data": {
      "image/png": "[encoded data removed]",
      "text/plain": [
       "<Figure size 432x288 with 1 Axes>"
      ]
     },
     "metadata": {
      "needs_background": "light"
     },
     "output_type": "display_data"
    }
   ],
   "source": [
    "X_train, X_validate, y_train, y_validate  = train_test_split(data[['x','y','z']], data['weight'] , random_state = 1 , test_size = 0.2)\n",
    "\n",
    "print(\"\\n X_train : {}\".format(X_train.shape))\n",
    "print(\"\\n X_test : {}\".format(X_validate.shape))\n",
    "print(\"\\n y_train : {}\".format(y_train.shape))\n",
    "print(\"\\n y_test : {}\".format(y_validate.shape))\n",
    "##\n",
    "\n",
    "\n",
    "\n",
    "lg = LogisticRegression(class_weight = 'balanced')\n",
    "perform_classification(lg , X_train, X_validate, y_train, y_validate , 'lg')"
   ]
  },
  {
   "cell_type": "code",
   "execution_count": 12,
   "metadata": {},
   "outputs": [
    {
     "data": {
      "text/plain": [
       "1    354\n",
       "0    348\n",
       "Name: weight, dtype: int64"
      ]
     },
     "execution_count": 12,
     "metadata": {},
     "output_type": "execute_result"
    }
   ],
   "source": [
    "y_validate.value_counts()"
   ]
  },
  {
   "cell_type": "code",
   "execution_count": 17,
   "metadata": {},
   "outputs": [
    {
     "name": "stdout",
     "output_type": "stream",
     "text": [
      "\n",
      " X_train : (2804, 3)\n",
      "\n",
      " X_test : (702, 3)\n",
      "\n",
      " y_train : (2804,)\n",
      "\n",
      " y_test : (702,)\n",
      "\n",
      " Train Score : 1.0\n",
      "Train Accuracy using predicted labels :1.0\n",
      "Test set score using predicted labels: 1.00\n",
      "Calculated Test set score: 1.00\n",
      "Accuracy score :1.000\n",
      "Confusion matrix :\n",
      "[[348   0]\n",
      " [  0 354]]\n",
      "\n",
      " Max depth:2 \n"
     ]
    },
    {
     "data": {
      "image/png": "[encoded data removed]",
      "text/plain": [
       "<Figure size 432x288 with 1 Axes>"
      ]
     },
     "metadata": {
      "needs_background": "light"
     },
     "output_type": "display_data"
    },
    {
     "data": {
      "image/png": "[encoded data removed]",
      "text/plain": [
       "<Figure size 432x288 with 1 Axes>"
      ]
     },
     "metadata": {
      "needs_background": "light"
     },
     "output_type": "display_data"
    },
    {
     "data": {
      "image/png": "[encoded data removed]",
      "text/plain": [
       "<Figure size 1080x360 with 1 Axes>"
      ]
     },
     "metadata": {
      "needs_background": "light"
     },
     "output_type": "display_data"
    }
   ],
   "source": [
    "X_train, X_validate, y_train, y_validate  = train_test_split(data[['x','y','z']], data['weight'] , random_state = 1 , test_size = 0.2)\n",
    "\n",
    "print(\"\\n X_train : {}\".format(X_train.shape))\n",
    "print(\"\\n X_test : {}\".format(X_validate.shape))\n",
    "print(\"\\n y_train : {}\".format(y_train.shape))\n",
    "print(\"\\n y_test : {}\".format(y_validate.shape))\n",
    "##\n",
    "\n",
    "\n",
    "\n",
    "dt = DecisionTreeClassifier(class_weight = 'balanced', random_state = 12)\n",
    "perform_classification(dt , X_train, X_validate, y_train, y_validate , 'dt')"
   ]
  },
  {
   "cell_type": "code",
   "execution_count": null,
   "metadata": {},
   "outputs": [],
   "source": []
  }
 ],
 "metadata": {
  "kernelspec": {
   "display_name": "Python 3",
   "language": "python",
   "name": "python3"
  },
  "language_info": {
   "codemirror_mode": {
    "name": "ipython",
    "version": 3
   },
   "file_extension": ".py",
   "mimetype": "text/x-python",
   "name": "python",
   "nbconvert_exporter": "python",
   "pygments_lexer": "ipython3",
   "version": "3.8.3"
  }
 },
 "nbformat": 4,
 "nbformat_minor": 4
}
